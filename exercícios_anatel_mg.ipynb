{
  "nbformat": 4,
  "nbformat_minor": 0,
  "metadata": {
    "kernelspec": {
      "display_name": "Python 3",
      "language": "python",
      "name": "python3"
    },
    "language_info": {
      "codemirror_mode": {
        "name": "ipython",
        "version": 3
      },
      "file_extension": ".py",
      "mimetype": "text/x-python",
      "name": "python",
      "nbconvert_exporter": "python",
      "pygments_lexer": "ipython3",
      "version": "3.7.4"
    },
    "colab": {
      "name": "exercícios_anatel_mg.ipynb",
      "provenance": [],
      "toc_visible": true
    }
  },
  "cells": [
    {
      "cell_type": "markdown",
      "metadata": {
        "id": "3v-Jy_SdUzKB",
        "colab_type": "text"
      },
      "source": [
        "![anatel](img/anatel_logo.png \"Logo Anatel\")\n",
        "\n",
        "# Análise de Dados da Anatel em Minas Gerais (2006 - 2019)"
      ]
    },
    {
      "cell_type": "markdown",
      "metadata": {
        "id": "8caLOkAkUzKD",
        "colab_type": "text"
      },
      "source": [
        "A Agência Nacional de Telecomunicaçõe ([Anatel](https://www.anatel.gov.br/institucional/)) foi criada em 16 de julho de 1997 com o objetivo de regular o setor de telecomunicações para contribuir com o desenvolvimento do Brasil. Neste estudo iremos explorar o conjunto de dados das **Reclamações Registradas na Anatel** no estado de Minas Gerais durante os anos de 2006 até 2019. Os dados foram baixaados do  website [Dados Abertos](http://www.dados.gov.br/dataset/solicitacoesregistradasnaanatel) e o [Dicionário de Dados Oficial](data/Reclamações_Glossário_e_Metadados.pdf) está disponível na pasta: [`data/Reclamações_Glossário_e_Metadados.pdf`](data/Reclamações_Glossário_e_Metadados.pdf)."
      ]
    },
    {
      "cell_type": "markdown",
      "metadata": {
        "id": "iIB1lCUuUzKE",
        "colab_type": "text"
      },
      "source": [
        "## Exercícios\n",
        "Faça as questões abaixo usando somente a biblioteca [pandas](https://pandas.pydata.org/)."
      ]
    },
    {
      "cell_type": "markdown",
      "metadata": {
        "id": "dqDlkp-UUzKF",
        "colab_type": "text"
      },
      "source": [
        "1. Importe o pacote **pandas** como o nome pd."
      ]
    },
    {
      "cell_type": "code",
      "metadata": {
        "id": "RSudue0-UzKF",
        "colab_type": "code",
        "colab": {}
      },
      "source": [
        "import numpy as np\n",
        "\n",
        "import pandas as pd"
      ],
      "execution_count": null,
      "outputs": []
    },
    {
      "cell_type": "markdown",
      "metadata": {
        "id": "NelrXXW4UzKK",
        "colab_type": "text"
      },
      "source": [
        "2. Carregue em memória o conjunto de dados disponível na pasta [`data/anatel_mg_2006_2019.csv`](data/anatel_mg_2006_2019.csv) para uma variável chamada **df**."
      ]
    },
    {
      "cell_type": "code",
      "metadata": {
        "id": "6gnlH1k5UzKL",
        "colab_type": "code",
        "colab": {}
      },
      "source": [
        "df = pd.read_csv('./sample_data/anatel_mg_2006_2019.csv')"
      ],
      "execution_count": 11,
      "outputs": []
    },
    {
      "cell_type": "markdown",
      "metadata": {
        "id": "g07Fc6CAUzKN",
        "colab_type": "text"
      },
      "source": [
        "3. Quantas linhas e quantas colunas foram carregadas em memória?"
      ]
    },
    {
      "cell_type": "code",
      "metadata": {
        "id": "8HyrPLENUzKO",
        "colab_type": "code",
        "colab": {
          "base_uri": "https://localhost:8080/",
          "height": 35
        },
        "outputId": "993b48f3-2666-40d9-8640-807e03436286"
      },
      "source": [
        "len(df)"
      ],
      "execution_count": 12,
      "outputs": [
        {
          "output_type": "execute_result",
          "data": {
            "text/plain": [
              "509706"
            ]
          },
          "metadata": {
            "tags": []
          },
          "execution_count": 12
        }
      ]
    },
    {
      "cell_type": "markdown",
      "metadata": {
        "id": "8jKWdW0xUzKR",
        "colab_type": "text"
      },
      "source": [
        "4. Mostre as 5 primeiras linhas do *dataset*."
      ]
    },
    {
      "cell_type": "code",
      "metadata": {
        "id": "9pWIXSApUzKR",
        "colab_type": "code",
        "colab": {
          "base_uri": "https://localhost:8080/",
          "height": 361
        },
        "outputId": "e9ba01c7-f40b-4d8e-8500-b9e416c4751f"
      },
      "source": [
        "df.head()"
      ],
      "execution_count": 13,
      "outputs": [
        {
          "output_type": "execute_result",
          "data": {
            "text/html": [
              "<div>\n",
              "<style scoped>\n",
              "    .dataframe tbody tr th:only-of-type {\n",
              "        vertical-align: middle;\n",
              "    }\n",
              "\n",
              "    .dataframe tbody tr th {\n",
              "        vertical-align: top;\n",
              "    }\n",
              "\n",
              "    .dataframe thead th {\n",
              "        text-align: right;\n",
              "    }\n",
              "</style>\n",
              "<table border=\"1\" class=\"dataframe\">\n",
              "  <thead>\n",
              "    <tr style=\"text-align: right;\">\n",
              "      <th></th>\n",
              "      <th>DataExtracao</th>\n",
              "      <th>Ano</th>\n",
              "      <th>Mes</th>\n",
              "      <th>CanalEntrada</th>\n",
              "      <th>Condicao</th>\n",
              "      <th>GrupoEconNorm</th>\n",
              "      <th>Tipo</th>\n",
              "      <th>Servico</th>\n",
              "      <th>Modalidade</th>\n",
              "      <th>Motivo</th>\n",
              "      <th>UF</th>\n",
              "      <th>QtdeSolic</th>\n",
              "    </tr>\n",
              "  </thead>\n",
              "  <tbody>\n",
              "    <tr>\n",
              "      <th>0</th>\n",
              "      <td>2016-04-28</td>\n",
              "      <td>2006</td>\n",
              "      <td>1</td>\n",
              "      <td>Atendimento Pessoal</td>\n",
              "      <td>Nova</td>\n",
              "      <td>Anatel</td>\n",
              "      <td>Denúncia</td>\n",
              "      <td>Radiodifusão (Rádio e TV)</td>\n",
              "      <td>Rádio FM</td>\n",
              "      <td>Interferência</td>\n",
              "      <td>MG</td>\n",
              "      <td>3</td>\n",
              "    </tr>\n",
              "    <tr>\n",
              "      <th>1</th>\n",
              "      <td>2016-04-28</td>\n",
              "      <td>2006</td>\n",
              "      <td>1</td>\n",
              "      <td>Atendimento Pessoal</td>\n",
              "      <td>Nova</td>\n",
              "      <td>Anatel</td>\n",
              "      <td>Denúncia</td>\n",
              "      <td>Radiodifusão (Rádio e TV)</td>\n",
              "      <td>Rádio FM</td>\n",
              "      <td>Outorga</td>\n",
              "      <td>MG</td>\n",
              "      <td>8</td>\n",
              "    </tr>\n",
              "    <tr>\n",
              "      <th>2</th>\n",
              "      <td>2016-04-28</td>\n",
              "      <td>2006</td>\n",
              "      <td>1</td>\n",
              "      <td>Atendimento Pessoal</td>\n",
              "      <td>Nova</td>\n",
              "      <td>NET</td>\n",
              "      <td>Reclamação</td>\n",
              "      <td>Serviço Telefônico Fixo Comutado - STFC</td>\n",
              "      <td>Local</td>\n",
              "      <td>Cobrança</td>\n",
              "      <td>MG</td>\n",
              "      <td>1</td>\n",
              "    </tr>\n",
              "    <tr>\n",
              "      <th>3</th>\n",
              "      <td>2016-04-28</td>\n",
              "      <td>2006</td>\n",
              "      <td>1</td>\n",
              "      <td>Atendimento Pessoal</td>\n",
              "      <td>Nova</td>\n",
              "      <td>OI</td>\n",
              "      <td>Reclamação</td>\n",
              "      <td>Móvel Pessoal</td>\n",
              "      <td>Pós-Pago</td>\n",
              "      <td>Serviços Adicionais</td>\n",
              "      <td>MG</td>\n",
              "      <td>1</td>\n",
              "    </tr>\n",
              "    <tr>\n",
              "      <th>4</th>\n",
              "      <td>2016-04-28</td>\n",
              "      <td>2006</td>\n",
              "      <td>1</td>\n",
              "      <td>Atendimento Pessoal</td>\n",
              "      <td>Nova</td>\n",
              "      <td>Outros</td>\n",
              "      <td>Reclamação</td>\n",
              "      <td>Móvel Pessoal</td>\n",
              "      <td>Pós-Pago</td>\n",
              "      <td>Clonagem</td>\n",
              "      <td>MG</td>\n",
              "      <td>1</td>\n",
              "    </tr>\n",
              "  </tbody>\n",
              "</table>\n",
              "</div>"
            ],
            "text/plain": [
              "  DataExtracao   Ano  Mes  ...               Motivo  UF QtdeSolic\n",
              "0   2016-04-28  2006    1  ...        Interferência  MG         3\n",
              "1   2016-04-28  2006    1  ...              Outorga  MG         8\n",
              "2   2016-04-28  2006    1  ...             Cobrança  MG         1\n",
              "3   2016-04-28  2006    1  ...  Serviços Adicionais  MG         1\n",
              "4   2016-04-28  2006    1  ...             Clonagem  MG         1\n",
              "\n",
              "[5 rows x 12 columns]"
            ]
          },
          "metadata": {
            "tags": []
          },
          "execution_count": 13
        }
      ]
    },
    {
      "cell_type": "markdown",
      "metadata": {
        "id": "GoMBJqbcUzKU",
        "colab_type": "text"
      },
      "source": [
        "5.  Quais são os tipos de dados de cada uma das colunas?"
      ]
    },
    {
      "cell_type": "code",
      "metadata": {
        "id": "sAeHvXeHUzKU",
        "colab_type": "code",
        "colab": {
          "base_uri": "https://localhost:8080/",
          "height": 243
        },
        "outputId": "bedeedd8-fba4-49b4-8e67-8014282fa337"
      },
      "source": [
        "df.dtypes"
      ],
      "execution_count": 14,
      "outputs": [
        {
          "output_type": "execute_result",
          "data": {
            "text/plain": [
              "DataExtracao     object\n",
              "Ano               int64\n",
              "Mes               int64\n",
              "CanalEntrada     object\n",
              "Condicao         object\n",
              "GrupoEconNorm    object\n",
              "Tipo             object\n",
              "Servico          object\n",
              "Modalidade       object\n",
              "Motivo           object\n",
              "UF               object\n",
              "QtdeSolic         int64\n",
              "dtype: object"
            ]
          },
          "metadata": {
            "tags": []
          },
          "execution_count": 14
        }
      ]
    },
    {
      "cell_type": "markdown",
      "metadata": {
        "id": "wCD96VoaUzKX",
        "colab_type": "text"
      },
      "source": [
        "6. Mostre a quantidade de colunas para cada um dos tipos de dados."
      ]
    },
    {
      "cell_type": "code",
      "metadata": {
        "id": "e8EJbJIFUzKX",
        "colab_type": "code",
        "colab": {
          "base_uri": "https://localhost:8080/",
          "height": 294
        },
        "outputId": "22d2f4cd-7a94-411f-e59b-a79f4543063e"
      },
      "source": [
        "df.describe()"
      ],
      "execution_count": 16,
      "outputs": [
        {
          "output_type": "execute_result",
          "data": {
            "text/html": [
              "<div>\n",
              "<style scoped>\n",
              "    .dataframe tbody tr th:only-of-type {\n",
              "        vertical-align: middle;\n",
              "    }\n",
              "\n",
              "    .dataframe tbody tr th {\n",
              "        vertical-align: top;\n",
              "    }\n",
              "\n",
              "    .dataframe thead th {\n",
              "        text-align: right;\n",
              "    }\n",
              "</style>\n",
              "<table border=\"1\" class=\"dataframe\">\n",
              "  <thead>\n",
              "    <tr style=\"text-align: right;\">\n",
              "      <th></th>\n",
              "      <th>Ano</th>\n",
              "      <th>Mes</th>\n",
              "      <th>QtdeSolic</th>\n",
              "    </tr>\n",
              "  </thead>\n",
              "  <tbody>\n",
              "    <tr>\n",
              "      <th>count</th>\n",
              "      <td>509706.000000</td>\n",
              "      <td>509706.000000</td>\n",
              "      <td>509706.000000</td>\n",
              "    </tr>\n",
              "    <tr>\n",
              "      <th>mean</th>\n",
              "      <td>2014.852788</td>\n",
              "      <td>6.317014</td>\n",
              "      <td>8.469714</td>\n",
              "    </tr>\n",
              "    <tr>\n",
              "      <th>std</th>\n",
              "      <td>3.443596</td>\n",
              "      <td>3.395123</td>\n",
              "      <td>44.456639</td>\n",
              "    </tr>\n",
              "    <tr>\n",
              "      <th>min</th>\n",
              "      <td>2006.000000</td>\n",
              "      <td>1.000000</td>\n",
              "      <td>1.000000</td>\n",
              "    </tr>\n",
              "    <tr>\n",
              "      <th>25%</th>\n",
              "      <td>2013.000000</td>\n",
              "      <td>3.000000</td>\n",
              "      <td>1.000000</td>\n",
              "    </tr>\n",
              "    <tr>\n",
              "      <th>50%</th>\n",
              "      <td>2016.000000</td>\n",
              "      <td>6.000000</td>\n",
              "      <td>2.000000</td>\n",
              "    </tr>\n",
              "    <tr>\n",
              "      <th>75%</th>\n",
              "      <td>2017.000000</td>\n",
              "      <td>9.000000</td>\n",
              "      <td>5.000000</td>\n",
              "    </tr>\n",
              "    <tr>\n",
              "      <th>max</th>\n",
              "      <td>2019.000000</td>\n",
              "      <td>12.000000</td>\n",
              "      <td>4164.000000</td>\n",
              "    </tr>\n",
              "  </tbody>\n",
              "</table>\n",
              "</div>"
            ],
            "text/plain": [
              "                 Ano            Mes      QtdeSolic\n",
              "count  509706.000000  509706.000000  509706.000000\n",
              "mean     2014.852788       6.317014       8.469714\n",
              "std         3.443596       3.395123      44.456639\n",
              "min      2006.000000       1.000000       1.000000\n",
              "25%      2013.000000       3.000000       1.000000\n",
              "50%      2016.000000       6.000000       2.000000\n",
              "75%      2017.000000       9.000000       5.000000\n",
              "max      2019.000000      12.000000    4164.000000"
            ]
          },
          "metadata": {
            "tags": []
          },
          "execution_count": 16
        }
      ]
    },
    {
      "cell_type": "markdown",
      "metadata": {
        "id": "fprnsneLUzKc",
        "colab_type": "text"
      },
      "source": [
        "7. Mostre as informações básicas do DataFrame."
      ]
    },
    {
      "cell_type": "code",
      "metadata": {
        "id": "jgX7a-t1UzKc",
        "colab_type": "code",
        "colab": {
          "base_uri": "https://localhost:8080/",
          "height": 347
        },
        "outputId": "da540913-d51e-437d-d9ac-2a985b07c99b"
      },
      "source": [
        "df.info()"
      ],
      "execution_count": 17,
      "outputs": [
        {
          "output_type": "stream",
          "text": [
            "<class 'pandas.core.frame.DataFrame'>\n",
            "RangeIndex: 509706 entries, 0 to 509705\n",
            "Data columns (total 12 columns):\n",
            " #   Column         Non-Null Count   Dtype \n",
            "---  ------         --------------   ----- \n",
            " 0   DataExtracao   509706 non-null  object\n",
            " 1   Ano            509706 non-null  int64 \n",
            " 2   Mes            509706 non-null  int64 \n",
            " 3   CanalEntrada   509706 non-null  object\n",
            " 4   Condicao       509706 non-null  object\n",
            " 5   GrupoEconNorm  509404 non-null  object\n",
            " 6   Tipo           509706 non-null  object\n",
            " 7   Servico        509706 non-null  object\n",
            " 8   Modalidade     509706 non-null  object\n",
            " 9   Motivo         509706 non-null  object\n",
            " 10  UF             509706 non-null  object\n",
            " 11  QtdeSolic      509706 non-null  int64 \n",
            "dtypes: int64(3), object(9)\n",
            "memory usage: 46.7+ MB\n"
          ],
          "name": "stdout"
        }
      ]
    },
    {
      "cell_type": "markdown",
      "metadata": {
        "id": "Ju9QCR_BUzKe",
        "colab_type": "text"
      },
      "source": [
        "8. Verifique se existem dados ausentes (*misssing data*) no conjunto de dados."
      ]
    },
    {
      "cell_type": "code",
      "metadata": {
        "id": "8PKVhlP8UzKf",
        "colab_type": "code",
        "colab": {
          "base_uri": "https://localhost:8080/",
          "height": 35
        },
        "outputId": "9c956e30-a973-494b-9fee-8ff5ffb0aa0a"
      },
      "source": [
        "df.isnull().values.any()"
      ],
      "execution_count": 18,
      "outputs": [
        {
          "output_type": "execute_result",
          "data": {
            "text/plain": [
              "True"
            ]
          },
          "metadata": {
            "tags": []
          },
          "execution_count": 18
        }
      ]
    },
    {
      "cell_type": "markdown",
      "metadata": {
        "id": "sjuJqsuzUzKh",
        "colab_type": "text"
      },
      "source": [
        "9. Qual é o número total de dados ausentes?"
      ]
    },
    {
      "cell_type": "code",
      "metadata": {
        "id": "xsedWEORUzKi",
        "colab_type": "code",
        "colab": {
          "base_uri": "https://localhost:8080/",
          "height": 35
        },
        "outputId": "a72086c5-22c8-472d-9b4e-385fdfa3f416"
      },
      "source": [
        "df.isnull().sum().sum()"
      ],
      "execution_count": 19,
      "outputs": [
        {
          "output_type": "execute_result",
          "data": {
            "text/plain": [
              "302"
            ]
          },
          "metadata": {
            "tags": []
          },
          "execution_count": 19
        }
      ]
    },
    {
      "cell_type": "markdown",
      "metadata": {
        "id": "Fk893fT_UzKk",
        "colab_type": "text"
      },
      "source": [
        "10. Qual é o número total de dados ausentes por coluna? "
      ]
    },
    {
      "cell_type": "code",
      "metadata": {
        "id": "War0vBr4UzKl",
        "colab_type": "code",
        "colab": {
          "base_uri": "https://localhost:8080/",
          "height": 243
        },
        "outputId": "ed5b1165-0e4a-444c-b6d6-5d1a00f9fb87"
      },
      "source": [
        "df.isnull().sum()"
      ],
      "execution_count": 20,
      "outputs": [
        {
          "output_type": "execute_result",
          "data": {
            "text/plain": [
              "DataExtracao       0\n",
              "Ano                0\n",
              "Mes                0\n",
              "CanalEntrada       0\n",
              "Condicao           0\n",
              "GrupoEconNorm    302\n",
              "Tipo               0\n",
              "Servico            0\n",
              "Modalidade         0\n",
              "Motivo             0\n",
              "UF                 0\n",
              "QtdeSolic          0\n",
              "dtype: int64"
            ]
          },
          "metadata": {
            "tags": []
          },
          "execution_count": 20
        }
      ]
    },
    {
      "cell_type": "markdown",
      "metadata": {
        "id": "b-mljGV1UzKn",
        "colab_type": "text"
      },
      "source": [
        "11. Remova todos os dados ausentes encontrados."
      ]
    },
    {
      "cell_type": "code",
      "metadata": {
        "id": "dLj002wzUzKo",
        "colab_type": "code",
        "colab": {}
      },
      "source": [
        "df = df.dropna(subset=['GrupoEconNorm'])"
      ],
      "execution_count": 22,
      "outputs": []
    },
    {
      "cell_type": "markdown",
      "metadata": {
        "id": "M6UxQqknUzKq",
        "colab_type": "text"
      },
      "source": [
        "12. Selecione o serviço que possui o maior número de solicitações `QtdeSolic` na Anatel."
      ]
    },
    {
      "cell_type": "code",
      "metadata": {
        "id": "c2SG_MtaUzKr",
        "colab_type": "code",
        "colab": {
          "base_uri": "https://localhost:8080/",
          "height": 35
        },
        "outputId": "6a99d3e9-077e-40b5-924c-f94bcd794594"
      },
      "source": [
        "df['QtdeSolic'].max()"
      ],
      "execution_count": 23,
      "outputs": [
        {
          "output_type": "execute_result",
          "data": {
            "text/plain": [
              "4164"
            ]
          },
          "metadata": {
            "tags": []
          },
          "execution_count": 23
        }
      ]
    },
    {
      "cell_type": "markdown",
      "metadata": {
        "id": "kVwnUqjNUzKt",
        "colab_type": "text"
      },
      "source": [
        "13. Qual é o menor número de solicitações `QtdeSolic` na Anatel."
      ]
    },
    {
      "cell_type": "code",
      "metadata": {
        "id": "G1p8FScnUzKu",
        "colab_type": "code",
        "colab": {
          "base_uri": "https://localhost:8080/",
          "height": 35
        },
        "outputId": "2da375d8-fb05-4971-9a96-c51d87902c83"
      },
      "source": [
        "df['QtdeSolic'].min()\n"
      ],
      "execution_count": 35,
      "outputs": [
        {
          "output_type": "execute_result",
          "data": {
            "text/plain": [
              "1"
            ]
          },
          "metadata": {
            "tags": []
          },
          "execution_count": 35
        }
      ]
    },
    {
      "cell_type": "markdown",
      "metadata": {
        "id": "Zd9erPh9UzKw",
        "colab_type": "text"
      },
      "source": [
        "14. Mostre todas as linhs iguais ao menor número de solicitações `QtdeSolic` na Anatel."
      ]
    },
    {
      "cell_type": "code",
      "metadata": {
        "id": "SDZhoZW8UzKx",
        "colab_type": "code",
        "colab": {
          "base_uri": "https://localhost:8080/",
          "height": 903
        },
        "outputId": "b264c6c0-2d35-4e6d-a379-bc830d3cbd79"
      },
      "source": [
        "df.loc[df.QtdeSolic == np.min(df.QtdeSolic)]"
      ],
      "execution_count": 27,
      "outputs": [
        {
          "output_type": "execute_result",
          "data": {
            "text/html": [
              "<div>\n",
              "<style scoped>\n",
              "    .dataframe tbody tr th:only-of-type {\n",
              "        vertical-align: middle;\n",
              "    }\n",
              "\n",
              "    .dataframe tbody tr th {\n",
              "        vertical-align: top;\n",
              "    }\n",
              "\n",
              "    .dataframe thead th {\n",
              "        text-align: right;\n",
              "    }\n",
              "</style>\n",
              "<table border=\"1\" class=\"dataframe\">\n",
              "  <thead>\n",
              "    <tr style=\"text-align: right;\">\n",
              "      <th></th>\n",
              "      <th>DataExtracao</th>\n",
              "      <th>Ano</th>\n",
              "      <th>Mes</th>\n",
              "      <th>CanalEntrada</th>\n",
              "      <th>Condicao</th>\n",
              "      <th>GrupoEconNorm</th>\n",
              "      <th>Tipo</th>\n",
              "      <th>Servico</th>\n",
              "      <th>Modalidade</th>\n",
              "      <th>Motivo</th>\n",
              "      <th>UF</th>\n",
              "      <th>QtdeSolic</th>\n",
              "    </tr>\n",
              "  </thead>\n",
              "  <tbody>\n",
              "    <tr>\n",
              "      <th>2</th>\n",
              "      <td>2016-04-28</td>\n",
              "      <td>2006</td>\n",
              "      <td>1</td>\n",
              "      <td>Atendimento Pessoal</td>\n",
              "      <td>Nova</td>\n",
              "      <td>NET</td>\n",
              "      <td>Reclamação</td>\n",
              "      <td>Serviço Telefônico Fixo Comutado - STFC</td>\n",
              "      <td>Local</td>\n",
              "      <td>Cobrança</td>\n",
              "      <td>MG</td>\n",
              "      <td>1</td>\n",
              "    </tr>\n",
              "    <tr>\n",
              "      <th>3</th>\n",
              "      <td>2016-04-28</td>\n",
              "      <td>2006</td>\n",
              "      <td>1</td>\n",
              "      <td>Atendimento Pessoal</td>\n",
              "      <td>Nova</td>\n",
              "      <td>OI</td>\n",
              "      <td>Reclamação</td>\n",
              "      <td>Móvel Pessoal</td>\n",
              "      <td>Pós-Pago</td>\n",
              "      <td>Serviços Adicionais</td>\n",
              "      <td>MG</td>\n",
              "      <td>1</td>\n",
              "    </tr>\n",
              "    <tr>\n",
              "      <th>4</th>\n",
              "      <td>2016-04-28</td>\n",
              "      <td>2006</td>\n",
              "      <td>1</td>\n",
              "      <td>Atendimento Pessoal</td>\n",
              "      <td>Nova</td>\n",
              "      <td>Outros</td>\n",
              "      <td>Reclamação</td>\n",
              "      <td>Móvel Pessoal</td>\n",
              "      <td>Pós-Pago</td>\n",
              "      <td>Clonagem</td>\n",
              "      <td>MG</td>\n",
              "      <td>1</td>\n",
              "    </tr>\n",
              "    <tr>\n",
              "      <th>5</th>\n",
              "      <td>2016-04-28</td>\n",
              "      <td>2006</td>\n",
              "      <td>1</td>\n",
              "      <td>Atendimento Pessoal</td>\n",
              "      <td>Reaberta</td>\n",
              "      <td>NET</td>\n",
              "      <td>Reclamação</td>\n",
              "      <td>Serviço Telefônico Fixo Comutado - STFC</td>\n",
              "      <td>Local</td>\n",
              "      <td>Reparo</td>\n",
              "      <td>MG</td>\n",
              "      <td>1</td>\n",
              "    </tr>\n",
              "    <tr>\n",
              "      <th>6</th>\n",
              "      <td>2016-04-28</td>\n",
              "      <td>2006</td>\n",
              "      <td>1</td>\n",
              "      <td>Atendimento Pessoal</td>\n",
              "      <td>Reaberta</td>\n",
              "      <td>Outros</td>\n",
              "      <td>Reclamação</td>\n",
              "      <td>Serviço Telefônico Fixo Comutado - STFC</td>\n",
              "      <td>Local</td>\n",
              "      <td>Cancelamento</td>\n",
              "      <td>MG</td>\n",
              "      <td>1</td>\n",
              "    </tr>\n",
              "    <tr>\n",
              "      <th>...</th>\n",
              "      <td>...</td>\n",
              "      <td>...</td>\n",
              "      <td>...</td>\n",
              "      <td>...</td>\n",
              "      <td>...</td>\n",
              "      <td>...</td>\n",
              "      <td>...</td>\n",
              "      <td>...</td>\n",
              "      <td>...</td>\n",
              "      <td>...</td>\n",
              "      <td>...</td>\n",
              "      <td>...</td>\n",
              "    </tr>\n",
              "    <tr>\n",
              "      <th>509701</th>\n",
              "      <td>2019-10-08</td>\n",
              "      <td>2019</td>\n",
              "      <td>9</td>\n",
              "      <td>Fale Conosco</td>\n",
              "      <td>Reencaminhada</td>\n",
              "      <td>VIVO</td>\n",
              "      <td>Reclamação</td>\n",
              "      <td>Celular Pré-Pago</td>\n",
              "      <td>Bloqueio ou Suspensão e Desbloqueio</td>\n",
              "      <td>Não consegue desbloquear aparelho</td>\n",
              "      <td>MG</td>\n",
              "      <td>1</td>\n",
              "    </tr>\n",
              "    <tr>\n",
              "      <th>509702</th>\n",
              "      <td>2019-10-08</td>\n",
              "      <td>2019</td>\n",
              "      <td>9</td>\n",
              "      <td>Fale Conosco</td>\n",
              "      <td>Reencaminhada</td>\n",
              "      <td>VIVO</td>\n",
              "      <td>Reclamação</td>\n",
              "      <td>Celular Pré-Pago</td>\n",
              "      <td>Portabilidade</td>\n",
              "      <td>Portabilidade recusada pela prestadora</td>\n",
              "      <td>MG</td>\n",
              "      <td>1</td>\n",
              "    </tr>\n",
              "    <tr>\n",
              "      <th>509703</th>\n",
              "      <td>2019-10-08</td>\n",
              "      <td>2019</td>\n",
              "      <td>9</td>\n",
              "      <td>Fale Conosco</td>\n",
              "      <td>Reencaminhada</td>\n",
              "      <td>VIVO</td>\n",
              "      <td>Reclamação</td>\n",
              "      <td>Celular Pré-Pago</td>\n",
              "      <td>Qualidade, Funcionamento e Reparo</td>\n",
              "      <td>Não funcionamento de facilidade ou serviço adi...</td>\n",
              "      <td>MG</td>\n",
              "      <td>1</td>\n",
              "    </tr>\n",
              "    <tr>\n",
              "      <th>509704</th>\n",
              "      <td>2019-10-08</td>\n",
              "      <td>2019</td>\n",
              "      <td>9</td>\n",
              "      <td>Fale Conosco</td>\n",
              "      <td>Reencaminhada</td>\n",
              "      <td>VIVO</td>\n",
              "      <td>Reclamação</td>\n",
              "      <td>Telefone Fixo</td>\n",
              "      <td>Cancelamento</td>\n",
              "      <td>Cancelamento de serviço adicional não efetuado</td>\n",
              "      <td>MG</td>\n",
              "      <td>1</td>\n",
              "    </tr>\n",
              "    <tr>\n",
              "      <th>509705</th>\n",
              "      <td>2019-10-08</td>\n",
              "      <td>2019</td>\n",
              "      <td>9</td>\n",
              "      <td>Fale Conosco</td>\n",
              "      <td>Reencaminhada</td>\n",
              "      <td>VIVO</td>\n",
              "      <td>Reclamação</td>\n",
              "      <td>Telefone Fixo</td>\n",
              "      <td>Qualidade, Funcionamento e Reparo</td>\n",
              "      <td>Linha muda ou sem sinal</td>\n",
              "      <td>MG</td>\n",
              "      <td>1</td>\n",
              "    </tr>\n",
              "  </tbody>\n",
              "</table>\n",
              "<p>231120 rows × 12 columns</p>\n",
              "</div>"
            ],
            "text/plain": [
              "       DataExtracao   Ano  ...  UF QtdeSolic\n",
              "2        2016-04-28  2006  ...  MG         1\n",
              "3        2016-04-28  2006  ...  MG         1\n",
              "4        2016-04-28  2006  ...  MG         1\n",
              "5        2016-04-28  2006  ...  MG         1\n",
              "6        2016-04-28  2006  ...  MG         1\n",
              "...             ...   ...  ...  ..       ...\n",
              "509701   2019-10-08  2019  ...  MG         1\n",
              "509702   2019-10-08  2019  ...  MG         1\n",
              "509703   2019-10-08  2019  ...  MG         1\n",
              "509704   2019-10-08  2019  ...  MG         1\n",
              "509705   2019-10-08  2019  ...  MG         1\n",
              "\n",
              "[231120 rows x 12 columns]"
            ]
          },
          "metadata": {
            "tags": []
          },
          "execution_count": 27
        }
      ]
    },
    {
      "cell_type": "markdown",
      "metadata": {
        "id": "dmpUhEkQUzK0",
        "colab_type": "text"
      },
      "source": [
        "15. Mostre as contagens de solicitações `QtdeSolic` por tipo de serviço `Servico`."
      ]
    },
    {
      "cell_type": "code",
      "metadata": {
        "id": "bs_yDEQaUzK0",
        "colab_type": "code",
        "colab": {
          "base_uri": "https://localhost:8080/",
          "height": 381
        },
        "outputId": "3135e8a6-8220-4907-ed94-f8abbe77d8bb"
      },
      "source": [
        "df.groupby(['Servico'])['QtdeSolic'].sum()"
      ],
      "execution_count": 28,
      "outputs": [
        {
          "output_type": "execute_result",
          "data": {
            "text/plain": [
              "Servico\n",
              "Banda Larga Fixa                                            348860\n",
              "Celular Pré-Pago                                            307646\n",
              "Celular Pós-Pago                                            812191\n",
              "Limitado Privado                                              1020\n",
              "Móvel Pessoal                                              1082677\n",
              "Outros                                                        2972\n",
              "Radioamador (PY)                                              2810\n",
              "Radiochamada (Paging)                                           25\n",
              "Radiodifusão (Rádio e TV)                                     6493\n",
              "Rádio do Cidadão (PX)                                         2963\n",
              "Serviço Móvel Aeronáutico                                      153\n",
              "Serviço Móvel Marítimo                                          20\n",
              "Serviço Telefônico Fixo Comutado - STFC                     532895\n",
              "Serviço de Comunicação Multimídia                           254742\n",
              "Serviço de Rede e Transporte de Telecomunicações - SRTT       2824\n",
              "Serviços da Anatel                                           46939\n",
              "TV por Assinatura                                           394184\n",
              "Telefone Fixo                                               514958\n",
              "Troncalizado (Trunking)                                       2286\n",
              "Name: QtdeSolic, dtype: int64"
            ]
          },
          "metadata": {
            "tags": []
          },
          "execution_count": 28
        }
      ]
    },
    {
      "cell_type": "markdown",
      "metadata": {
        "id": "v2NG1dZiUzK3",
        "colab_type": "text"
      },
      "source": [
        "16. Ao longo dos anos mostre o número de solicitações por mês?"
      ]
    },
    {
      "cell_type": "code",
      "metadata": {
        "id": "HyoJ6iwWUzK4",
        "colab_type": "code",
        "colab": {
          "base_uri": "https://localhost:8080/",
          "height": 243
        },
        "outputId": "65bd7ad8-d7d0-4d19-9d58-f4df5e7badee"
      },
      "source": [
        "df.groupby(['Ano', 'Mes'])['QtdeSolic'].sum()"
      ],
      "execution_count": 29,
      "outputs": [
        {
          "output_type": "execute_result",
          "data": {
            "text/plain": [
              "Ano   Mes\n",
              "2006  1       6234\n",
              "      2       5120\n",
              "      3       6762\n",
              "      4       5992\n",
              "      5       6736\n",
              "             ...  \n",
              "2019  5      36382\n",
              "      6      30281\n",
              "      7      37304\n",
              "      8      34418\n",
              "      9      32626\n",
              "Name: QtdeSolic, Length: 165, dtype: int64"
            ]
          },
          "metadata": {
            "tags": []
          },
          "execution_count": 29
        }
      ]
    },
    {
      "cell_type": "markdown",
      "metadata": {
        "id": "uZD20DVXUzK6",
        "colab_type": "text"
      },
      "source": [
        "17. Crie o vetor **reclamacoes** com todos os dados que cuja coluna `Tipo` seja igual a \"Reclamação\"."
      ]
    },
    {
      "cell_type": "code",
      "metadata": {
        "id": "Ld90ro0yUzK7",
        "colab_type": "code",
        "colab": {
          "base_uri": "https://localhost:8080/",
          "height": 35
        },
        "outputId": "9ffdca5a-a309-4e51-e8e1-66309414359f"
      },
      "source": [
        "np.where(df['Tipo'] == \"Reclamação\")[0]"
      ],
      "execution_count": 30,
      "outputs": [
        {
          "output_type": "execute_result",
          "data": {
            "text/plain": [
              "array([     2,      3,      4, ..., 509401, 509402, 509403])"
            ]
          },
          "metadata": {
            "tags": []
          },
          "execution_count": 30
        }
      ]
    },
    {
      "cell_type": "markdown",
      "metadata": {
        "id": "XkkXeo-wUzK9",
        "colab_type": "text"
      },
      "source": [
        "18. Mostre o número total de solictiações `QtdeSolic` de reclamações para cada tipo de serviço `Servico`"
      ]
    },
    {
      "cell_type": "code",
      "metadata": {
        "id": "RfXzzASVUzK9",
        "colab_type": "code",
        "colab": {
          "base_uri": "https://localhost:8080/",
          "height": 662
        },
        "outputId": "d829ede5-4a75-40af-e80b-11de74579708"
      },
      "source": [
        "df.where(df['Tipo'] == \"Reclamação\").groupby(['Servico']).sum()"
      ],
      "execution_count": 31,
      "outputs": [
        {
          "output_type": "execute_result",
          "data": {
            "text/html": [
              "<div>\n",
              "<style scoped>\n",
              "    .dataframe tbody tr th:only-of-type {\n",
              "        vertical-align: middle;\n",
              "    }\n",
              "\n",
              "    .dataframe tbody tr th {\n",
              "        vertical-align: top;\n",
              "    }\n",
              "\n",
              "    .dataframe thead th {\n",
              "        text-align: right;\n",
              "    }\n",
              "</style>\n",
              "<table border=\"1\" class=\"dataframe\">\n",
              "  <thead>\n",
              "    <tr style=\"text-align: right;\">\n",
              "      <th></th>\n",
              "      <th>Ano</th>\n",
              "      <th>Mes</th>\n",
              "      <th>QtdeSolic</th>\n",
              "    </tr>\n",
              "    <tr>\n",
              "      <th>Servico</th>\n",
              "      <th></th>\n",
              "      <th></th>\n",
              "      <th></th>\n",
              "    </tr>\n",
              "  </thead>\n",
              "  <tbody>\n",
              "    <tr>\n",
              "      <th>Banda Larga Fixa</th>\n",
              "      <td>121868714.0</td>\n",
              "      <td>375853.0</td>\n",
              "      <td>348859.0</td>\n",
              "    </tr>\n",
              "    <tr>\n",
              "      <th>Celular Pré-Pago</th>\n",
              "      <td>114784732.0</td>\n",
              "      <td>356499.0</td>\n",
              "      <td>307646.0</td>\n",
              "    </tr>\n",
              "    <tr>\n",
              "      <th>Celular Pós-Pago</th>\n",
              "      <td>194329008.0</td>\n",
              "      <td>603591.0</td>\n",
              "      <td>812189.0</td>\n",
              "    </tr>\n",
              "    <tr>\n",
              "      <th>Limitado Privado</th>\n",
              "      <td>134553.0</td>\n",
              "      <td>332.0</td>\n",
              "      <td>83.0</td>\n",
              "    </tr>\n",
              "    <tr>\n",
              "      <th>Móvel Pessoal</th>\n",
              "      <td>121918272.0</td>\n",
              "      <td>395159.0</td>\n",
              "      <td>1068603.0</td>\n",
              "    </tr>\n",
              "    <tr>\n",
              "      <th>Outros</th>\n",
              "      <td>884612.0</td>\n",
              "      <td>2820.0</td>\n",
              "      <td>2230.0</td>\n",
              "    </tr>\n",
              "    <tr>\n",
              "      <th>Radioamador (PY)</th>\n",
              "      <td>291402.0</td>\n",
              "      <td>870.0</td>\n",
              "      <td>173.0</td>\n",
              "    </tr>\n",
              "    <tr>\n",
              "      <th>Radiochamada (Paging)</th>\n",
              "      <td>2010.0</td>\n",
              "      <td>12.0</td>\n",
              "      <td>1.0</td>\n",
              "    </tr>\n",
              "    <tr>\n",
              "      <th>Radiodifusão (Rádio e TV)</th>\n",
              "      <td>352246.0</td>\n",
              "      <td>1100.0</td>\n",
              "      <td>203.0</td>\n",
              "    </tr>\n",
              "    <tr>\n",
              "      <th>Rádio do Cidadão (PX)</th>\n",
              "      <td>223090.0</td>\n",
              "      <td>679.0</td>\n",
              "      <td>133.0</td>\n",
              "    </tr>\n",
              "    <tr>\n",
              "      <th>Serviço Móvel Aeronáutico</th>\n",
              "      <td>18087.0</td>\n",
              "      <td>39.0</td>\n",
              "      <td>9.0</td>\n",
              "    </tr>\n",
              "    <tr>\n",
              "      <th>Serviço Móvel Marítimo</th>\n",
              "      <td>6028.0</td>\n",
              "      <td>19.0</td>\n",
              "      <td>3.0</td>\n",
              "    </tr>\n",
              "    <tr>\n",
              "      <th>Serviço Telefônico Fixo Comutado - STFC</th>\n",
              "      <td>74885078.0</td>\n",
              "      <td>241624.0</td>\n",
              "      <td>526752.0</td>\n",
              "    </tr>\n",
              "    <tr>\n",
              "      <th>Serviço de Comunicação Multimídia</th>\n",
              "      <td>37304972.0</td>\n",
              "      <td>123151.0</td>\n",
              "      <td>239967.0</td>\n",
              "    </tr>\n",
              "    <tr>\n",
              "      <th>Serviço de Rede e Transporte de Telecomunicações - SRTT</th>\n",
              "      <td>918748.0</td>\n",
              "      <td>2143.0</td>\n",
              "      <td>2736.0</td>\n",
              "    </tr>\n",
              "    <tr>\n",
              "      <th>Serviços da Anatel</th>\n",
              "      <td>7423444.0</td>\n",
              "      <td>23454.0</td>\n",
              "      <td>24032.0</td>\n",
              "    </tr>\n",
              "    <tr>\n",
              "      <th>TV por Assinatura</th>\n",
              "      <td>159039784.0</td>\n",
              "      <td>495756.0</td>\n",
              "      <td>391773.0</td>\n",
              "    </tr>\n",
              "    <tr>\n",
              "      <th>Telefone Fixo</th>\n",
              "      <td>127463133.0</td>\n",
              "      <td>391873.0</td>\n",
              "      <td>514958.0</td>\n",
              "    </tr>\n",
              "    <tr>\n",
              "      <th>Troncalizado (Trunking)</th>\n",
              "      <td>1074313.0</td>\n",
              "      <td>3573.0</td>\n",
              "      <td>2229.0</td>\n",
              "    </tr>\n",
              "  </tbody>\n",
              "</table>\n",
              "</div>"
            ],
            "text/plain": [
              "                                                            Ano  ...  QtdeSolic\n",
              "Servico                                                          ...           \n",
              "Banda Larga Fixa                                    121868714.0  ...   348859.0\n",
              "Celular Pré-Pago                                    114784732.0  ...   307646.0\n",
              "Celular Pós-Pago                                    194329008.0  ...   812189.0\n",
              "Limitado Privado                                       134553.0  ...       83.0\n",
              "Móvel Pessoal                                       121918272.0  ...  1068603.0\n",
              "Outros                                                 884612.0  ...     2230.0\n",
              "Radioamador (PY)                                       291402.0  ...      173.0\n",
              "Radiochamada (Paging)                                    2010.0  ...        1.0\n",
              "Radiodifusão (Rádio e TV)                              352246.0  ...      203.0\n",
              "Rádio do Cidadão (PX)                                  223090.0  ...      133.0\n",
              "Serviço Móvel Aeronáutico                               18087.0  ...        9.0\n",
              "Serviço Móvel Marítimo                                   6028.0  ...        3.0\n",
              "Serviço Telefônico Fixo Comutado - STFC              74885078.0  ...   526752.0\n",
              "Serviço de Comunicação Multimídia                    37304972.0  ...   239967.0\n",
              "Serviço de Rede e Transporte de Telecomunicaçõe...     918748.0  ...     2736.0\n",
              "Serviços da Anatel                                    7423444.0  ...    24032.0\n",
              "TV por Assinatura                                   159039784.0  ...   391773.0\n",
              "Telefone Fixo                                       127463133.0  ...   514958.0\n",
              "Troncalizado (Trunking)                               1074313.0  ...     2229.0\n",
              "\n",
              "[19 rows x 3 columns]"
            ]
          },
          "metadata": {
            "tags": []
          },
          "execution_count": 31
        }
      ]
    },
    {
      "cell_type": "markdown",
      "metadata": {
        "id": "Yn8OrWB1UzK_",
        "colab_type": "text"
      },
      "source": [
        "19. Quais são os maiores ou maior motivo de solicitação de reclamações?"
      ]
    },
    {
      "cell_type": "code",
      "metadata": {
        "id": "qPf0xbfxUzLA",
        "colab_type": "code",
        "colab": {
          "base_uri": "https://localhost:8080/",
          "height": 225
        },
        "outputId": "63610521-beda-4aaa-fa4c-b4fa98d9aaf6"
      },
      "source": [
        "df['Motivo'].value_counts()"
      ],
      "execution_count": 33,
      "outputs": [
        {
          "output_type": "execute_result",
          "data": {
            "text/plain": [
              "Cobrança                                                         24408\n",
              "Reparo                                                           14832\n",
              "Cancelamento                                                     11259\n",
              "Atendimento                                                      11246\n",
              "Outros                                                           11193\n",
              "                                                                 ...  \n",
              "Dados disponibilizados insuficientes                                 1\n",
              "Laboratórios de Ensaio                                               1\n",
              "LDN/LDI - Não consegue cancelar o plano por meio do atendente        1\n",
              "LDN/LDI - Consumidor não consegue negociar a dívida                  1\n",
              "Acompanhamento de processos de outorga                               1\n",
              "Name: Motivo, Length: 360, dtype: int64"
            ]
          },
          "metadata": {
            "tags": []
          },
          "execution_count": 33
        }
      ]
    },
    {
      "cell_type": "markdown",
      "metadata": {
        "id": "eFnsSakYUzLC",
        "colab_type": "text"
      },
      "source": [
        "20. Faça um agrupamento de dados pela coluna `GrupoEconNorm`, mostrando um sumário estatístico da quantidade solicitações `QtdeSolic`."
      ]
    },
    {
      "cell_type": "code",
      "metadata": {
        "id": "AaB80X9_UzLC",
        "colab_type": "code",
        "colab": {
          "base_uri": "https://localhost:8080/",
          "height": 723
        },
        "outputId": "d9dcdfeb-3c8a-4289-89e0-0722b05924fb"
      },
      "source": [
        "df.groupby(['GrupoEconNorm']).sum()"
      ],
      "execution_count": 34,
      "outputs": [
        {
          "output_type": "execute_result",
          "data": {
            "text/html": [
              "<div>\n",
              "<style scoped>\n",
              "    .dataframe tbody tr th:only-of-type {\n",
              "        vertical-align: middle;\n",
              "    }\n",
              "\n",
              "    .dataframe tbody tr th {\n",
              "        vertical-align: top;\n",
              "    }\n",
              "\n",
              "    .dataframe thead th {\n",
              "        text-align: right;\n",
              "    }\n",
              "</style>\n",
              "<table border=\"1\" class=\"dataframe\">\n",
              "  <thead>\n",
              "    <tr style=\"text-align: right;\">\n",
              "      <th></th>\n",
              "      <th>Ano</th>\n",
              "      <th>Mes</th>\n",
              "      <th>QtdeSolic</th>\n",
              "    </tr>\n",
              "    <tr>\n",
              "      <th>GrupoEconNorm</th>\n",
              "      <th></th>\n",
              "      <th></th>\n",
              "      <th></th>\n",
              "    </tr>\n",
              "  </thead>\n",
              "  <tbody>\n",
              "    <tr>\n",
              "      <th>ALGAR</th>\n",
              "      <td>62509961</td>\n",
              "      <td>196516</td>\n",
              "      <td>95407</td>\n",
              "    </tr>\n",
              "    <tr>\n",
              "      <th>Anatel</th>\n",
              "      <td>45900604</td>\n",
              "      <td>146693</td>\n",
              "      <td>57950</td>\n",
              "    </tr>\n",
              "    <tr>\n",
              "      <th>BLUE</th>\n",
              "      <td>6248905</td>\n",
              "      <td>19796</td>\n",
              "      <td>5020</td>\n",
              "    </tr>\n",
              "    <tr>\n",
              "      <th>Brisanet</th>\n",
              "      <td>10094</td>\n",
              "      <td>38</td>\n",
              "      <td>5</td>\n",
              "    </tr>\n",
              "    <tr>\n",
              "      <th>CABO TELECOM</th>\n",
              "      <td>2018</td>\n",
              "      <td>10</td>\n",
              "      <td>1</td>\n",
              "    </tr>\n",
              "    <tr>\n",
              "      <th>CLARO</th>\n",
              "      <td>113392559</td>\n",
              "      <td>355863</td>\n",
              "      <td>407880</td>\n",
              "    </tr>\n",
              "    <tr>\n",
              "      <th>Correios Celular</th>\n",
              "      <td>520776</td>\n",
              "      <td>1517</td>\n",
              "      <td>292</td>\n",
              "    </tr>\n",
              "    <tr>\n",
              "      <th>Datora</th>\n",
              "      <td>4036</td>\n",
              "      <td>20</td>\n",
              "      <td>3</td>\n",
              "    </tr>\n",
              "    <tr>\n",
              "      <th>EMBRATEL</th>\n",
              "      <td>2864989</td>\n",
              "      <td>9448</td>\n",
              "      <td>2909</td>\n",
              "    </tr>\n",
              "    <tr>\n",
              "      <th>GVT</th>\n",
              "      <td>12870363</td>\n",
              "      <td>41459</td>\n",
              "      <td>38981</td>\n",
              "    </tr>\n",
              "    <tr>\n",
              "      <th>HUGHES NET</th>\n",
              "      <td>805446</td>\n",
              "      <td>2381</td>\n",
              "      <td>542</td>\n",
              "    </tr>\n",
              "    <tr>\n",
              "      <th>Intelig</th>\n",
              "      <td>457598</td>\n",
              "      <td>1334</td>\n",
              "      <td>315</td>\n",
              "    </tr>\n",
              "    <tr>\n",
              "      <th>NET</th>\n",
              "      <td>104046476</td>\n",
              "      <td>324420</td>\n",
              "      <td>257177</td>\n",
              "    </tr>\n",
              "    <tr>\n",
              "      <th>NEXTEL</th>\n",
              "      <td>6445168</td>\n",
              "      <td>20436</td>\n",
              "      <td>6618</td>\n",
              "    </tr>\n",
              "    <tr>\n",
              "      <th>NOSSA TV - BRASIL</th>\n",
              "      <td>24220</td>\n",
              "      <td>93</td>\n",
              "      <td>12</td>\n",
              "    </tr>\n",
              "    <tr>\n",
              "      <th>OI</th>\n",
              "      <td>268111403</td>\n",
              "      <td>838988</td>\n",
              "      <td>1832855</td>\n",
              "    </tr>\n",
              "    <tr>\n",
              "      <th>Outros</th>\n",
              "      <td>48146968</td>\n",
              "      <td>148160</td>\n",
              "      <td>96430</td>\n",
              "    </tr>\n",
              "    <tr>\n",
              "      <th>SERCOMTEL</th>\n",
              "      <td>120650</td>\n",
              "      <td>348</td>\n",
              "      <td>61</td>\n",
              "    </tr>\n",
              "    <tr>\n",
              "      <th>SKY</th>\n",
              "      <td>49046176</td>\n",
              "      <td>153552</td>\n",
              "      <td>164339</td>\n",
              "    </tr>\n",
              "    <tr>\n",
              "      <th>TIM</th>\n",
              "      <td>134140249</td>\n",
              "      <td>423585</td>\n",
              "      <td>696485</td>\n",
              "    </tr>\n",
              "    <tr>\n",
              "      <th>VIVO</th>\n",
              "      <td>170704158</td>\n",
              "      <td>533530</td>\n",
              "      <td>653376</td>\n",
              "    </tr>\n",
              "  </tbody>\n",
              "</table>\n",
              "</div>"
            ],
            "text/plain": [
              "                         Ano     Mes  QtdeSolic\n",
              "GrupoEconNorm                                  \n",
              "ALGAR               62509961  196516      95407\n",
              "Anatel              45900604  146693      57950\n",
              "BLUE                 6248905   19796       5020\n",
              "Brisanet               10094      38          5\n",
              "CABO TELECOM            2018      10          1\n",
              "CLARO              113392559  355863     407880\n",
              "Correios Celular      520776    1517        292\n",
              "Datora                  4036      20          3\n",
              "EMBRATEL             2864989    9448       2909\n",
              "GVT                 12870363   41459      38981\n",
              "HUGHES NET            805446    2381        542\n",
              "Intelig               457598    1334        315\n",
              "NET                104046476  324420     257177\n",
              "NEXTEL               6445168   20436       6618\n",
              "NOSSA TV - BRASIL      24220      93         12\n",
              "OI                 268111403  838988    1832855\n",
              "Outros              48146968  148160      96430\n",
              "SERCOMTEL             120650     348         61\n",
              "SKY                 49046176  153552     164339\n",
              "TIM                134140249  423585     696485\n",
              "VIVO               170704158  533530     653376"
            ]
          },
          "metadata": {
            "tags": []
          },
          "execution_count": 34
        }
      ]
    }
  ]
}
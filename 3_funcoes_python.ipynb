{
  "nbformat": 4,
  "nbformat_minor": 0,
  "metadata": {
    "kernelspec": {
      "display_name": "Python 3",
      "language": "python",
      "name": "python3"
    },
    "language_info": {
      "codemirror_mode": {
        "name": "ipython",
        "version": 3
      },
      "file_extension": ".py",
      "mimetype": "text/x-python",
      "name": "python",
      "nbconvert_exporter": "python",
      "pygments_lexer": "ipython3",
      "version": "3.7.4"
    },
    "colab": {
      "name": "3_funcoes_python.ipynb",
      "provenance": [],
      "collapsed_sections": []
    }
  },
  "cells": [
    {
      "cell_type": "markdown",
      "metadata": {
        "id": "W8MDOKVcEW_f",
        "colab_type": "text"
      },
      "source": [
        "# Funções\n",
        "\n",
        "Métodos são blocos de códigos reutilizáveis que realizam tarefas específicas dentro de um programa. Em Python, definimos funções usando a palavra-chave *def*, seguida pelo nome da função, a lista formal de parâmetros entre parêntesis, e, finalizando a assinatura do método com dois pontos (:). É importante lembrar que todas as instruções após a assinatura do método e que formam o corpo da função, devem ser identadas para funcionamento correto do código.\n",
        "\n",
        "```python\n",
        "def soma(a, b):\n",
        "    \"\"\"Retorna a soma de dois números inteiros\"\"\"\n",
        "    return a + b;\n",
        "\n",
        "\n",
        "# Exemplo de uso da função\n",
        "resultado_soma = soma(12, 15) \n",
        "print(resultado_soma) # Saída: 27\n",
        "\n",
        "```\n",
        "\n",
        "Você deve ter notado o comentário logo após a assinatura do método; este tipo de comentário é o que chamamos de *docstring*, e serve para documentarmos as funções para posteriormente, gerarmos automaticamente com auxílio de ferramentas, uma documentação online ou impressa do seu programa. Por isso, comente sempre seu código e escreva-o de maneira mais clara possível para que outras pessoas consigam ler e compreender facilmente o que seu código faz.\n",
        "\n",
        "## Declaração de Argumentos\n",
        "\n",
        "Existem 3 formas diferentes, que podem ser combinadas entre si, para definirmos funções com número variável de argumentos, são elas:\n",
        "\n",
        "**1. Valores Padrão de Argumento**: declaramos um valor padrão para um ou mais argumentos no seguinte formato: *\"arg = value\"*; de tal forma que damos a opção de não especificar valores para tais argumentos e usarmos os valores padrão definidos.\n",
        "\n",
        "```python\n",
        "def exibir_mensagem(mensagem, cortar_apos = 4):\n",
        "    print(message[:cortar_apos]\n",
        "\n",
        "# Exemplo de uso da função\n",
        "exibir_mensagem(\"mensagem\")     # Saída: mens\n",
        "exibir_mensagem(\"mensagem\", 6)  # Saída: mensag\n",
        "```\n",
        "\n",
        "**2. Argumentos por Palavras-Chave**: semelhante a técnica anterior, argumentos por palavra-chave nós declaramos os argumentos no formato *\"arg = value\"*, lembrando que em uma chamada de função as variáveis passadas como parâmetro devem seguir a mesma ordem dos argumentos na assinatura do método.\n",
        "\n",
        "```python\n",
        "def desenha_retangulo(x, y, width = 800, height = 600):\n",
        "    # Instruções\n",
        "    \n",
        "# Exemplo de uso da função\n",
        "desenha_retangulo(0, 0)                               # Argumento por posição usando valores padrão do restante \n",
        "desenha_retangulo(0, 0, width = 1280)                 # Argumento com uma palavra-chave\n",
        "desenha_retangulo(0, 0, width = 1280, height = 1024)  # Argumento com duas palavras-chave\n",
        "desenha_retangulo()                                   # Erro: required argument missing\n",
        "desenha_retangulo(color = \"#CCCCCC\")                  # Erro: argumento por palavra-chave desconhecido\n",
        "desenha_retangulo(0, 0, x = 200, y = 300)             # Erro: valores duplicados par ao mesmo argumento\n",
        "\n",
        "```\n",
        "\n",
        "**3. Listas de Argumentos Arbitrários**: o Python permite você criar listas de argumentos com tamanho variável, de forma que toda vez que você chamar a função você possa especificar qualquer quantidade de argumentos que serão empacotados em uma variável do tipo tupla.\n",
        "\n",
        "```python\n",
        "# O último argumento é marcado com uma asterisco \n",
        "# para indicar que após os dois primeiros parâmetros\n",
        "# qualquer dado enviado para a função será empacotado em uma tupla.\n",
        "def nome_funcao(primeiro_arg, segundo_arg, *restante):\n",
        "    # Instruções\n",
        "    \n",
        "```\n",
        "\n",
        "## Passagem por Valor ou Por Referência?\n",
        "\n",
        "Em Python, objetos passados como argumentos para as funções são passados por *referência*, ou seja, não é feita uma cópia deles para o corpo da função. Desta forma, quando passamos uma lista enorme como argumento, não haverá a cópia  de todos os seus itens para um novo local em memória. Não se esqueça que até mesmo números inteiros são objetos para o Python. \n",
        "\n",
        "Ao passar objetos mutáveis (p. ex: listas e dicionários) como parâmetro, eles podem ser alterados pela função que os chamou e as alterações são visíveis para a função chamadora. Já os objetos imutáveis (p. ex: inteiros e strings), não podem ser alterados pela função chamada, logo, a função chamadora pode ter certeza de que a função chamada não irá alterar os valores das variáveis.\n"
      ]
    },
    {
      "cell_type": "markdown",
      "metadata": {
        "id": "2HBHwjngEW_m",
        "colab_type": "text"
      },
      "source": [
        "## Exercícios"
      ]
    },
    {
      "cell_type": "markdown",
      "metadata": {
        "id": "YsxzhKP_EW_r",
        "colab_type": "text"
      },
      "source": [
        "1. Faça um programa contendo o método `verifica(numero)` que retorne 1 se o número digitado for positivo ou 0 se for negativo."
      ]
    },
    {
      "cell_type": "code",
      "metadata": {
        "id": "Cy8zVXWoEW_u",
        "colab_type": "code",
        "colab": {
          "base_uri": "https://localhost:8080/",
          "height": 51
        },
        "outputId": "0e15d78f-2c8a-4962-d8f7-ce52059e77f9"
      },
      "source": [
        "numero = int(input());\n",
        "\n",
        "def verifica(num):\n",
        "  if(num>0):\n",
        "    print(1);\n",
        "  else:\n",
        "    print(0);\n",
        "\n",
        "verifica(numero);      \n"
      ],
      "execution_count": 9,
      "outputs": [
        {
          "output_type": "stream",
          "text": [
            "15\n",
            "1\n"
          ],
          "name": "stdout"
        }
      ]
    },
    {
      "cell_type": "markdown",
      "metadata": {
        "id": "KkRXUofqEW_3",
        "colab_type": "text"
      },
      "source": [
        "2. Faça um programa contendo o método `somar(inicio, fim)` que receba dois números inteiros positivos como parâmetro e retorne a soma dos N números inteiros existentes entre eles. Ou seja, os parâmetros são exclusives, ou seja, os valores de início e fim não aparecerão no resultado."
      ]
    },
    {
      "cell_type": "code",
      "metadata": {
        "id": "FX9KzYKXEW_6",
        "colab_type": "code",
        "colab": {
          "base_uri": "https://localhost:8080/",
          "height": 68
        },
        "outputId": "af6ed68e-ba6d-48ac-a754-b0ae3ce05e05"
      },
      "source": [
        "num1 = int(input());\n",
        "num2 = int(input());\n",
        "\n",
        "def somar(inicio,fim):\n",
        "  aux = 0;\n",
        "  aux2 = fim - inicio;\n",
        "  if fim >= inicio:\n",
        "    for i in range(1, aux2):\n",
        "      aux += i\n",
        "    aux -= fim\n",
        "    aux -= inicio\n",
        "    return aux\n",
        "\n",
        "print(somar(num1,num2));"
      ],
      "execution_count": 14,
      "outputs": [
        {
          "output_type": "stream",
          "text": [
            "8\n",
            "12\n",
            "-14\n"
          ],
          "name": "stdout"
        }
      ]
    },
    {
      "cell_type": "markdown",
      "metadata": {
        "id": "ONm_apVAEXAB",
        "colab_type": "text"
      },
      "source": [
        "3. Faça um programa contendo o método `divisores(a, b, c)` que receba três números inteiros a, b e c, sendo a maior que 1. A função deverá somar todos os inteiros entre b e c que sejam divisíveis por a (inclusive b e c) e retornar o resultado da soma para ser impresso."
      ]
    },
    {
      "cell_type": "code",
      "metadata": {
        "id": "hQ6ZyRvnEXAD",
        "colab_type": "code",
        "colab": {
          "base_uri": "https://localhost:8080/",
          "height": 85
        },
        "outputId": "e2ebbccf-bde3-4575-b587-5f317702af5e"
      },
      "source": [
        "num1 = int(input());\n",
        "num2 = int(input());\n",
        "num3 = int(input());\n",
        "\n",
        "def divisores(a,b,c):\n",
        "  if a > 1:\n",
        "    aux = 0\n",
        "    aux2 = abs(c - b)\n",
        "    aux += b + c\n",
        "    for i in range(aux2):\n",
        "      if i % a == 0:\n",
        "        aux += i\n",
        "      return aux\n",
        "\n",
        "print(divisores(num1,num2,num3));"
      ],
      "execution_count": 23,
      "outputs": [
        {
          "output_type": "stream",
          "text": [
            "16\n",
            "18\n",
            "26\n",
            "44\n"
          ],
          "name": "stdout"
        }
      ]
    },
    {
      "cell_type": "markdown",
      "metadata": {
        "id": "Kpqplux0EXAN",
        "colab_type": "text"
      },
      "source": [
        "4. Faça um método `converte_horario(segundos)` que receba um único valor representando segundos e converta esse valor para horas, minutos e segundos; seguindo o formato 00:00:00."
      ]
    },
    {
      "cell_type": "code",
      "metadata": {
        "id": "XRqZAOHPEXAP",
        "colab_type": "code",
        "colab": {
          "base_uri": "https://localhost:8080/",
          "height": 51
        },
        "outputId": "de6764e8-80f8-4662-a599-a69a0a710c28"
      },
      "source": [
        "segundos = float(input());\n",
        "\n",
        "def converte_horario(segundos):\n",
        "  segundos = segundos % 60\n",
        "  minutos = segundos / 60\n",
        "  minuto = minutos % 60\n",
        "  horas = minutos / 60\n",
        "\n",
        "  return str(int(horas))  + ':' + str(int(minuto)) + ':' + str(int(segundos));\n",
        "\n",
        "print(converte_horario(segundos));"
      ],
      "execution_count": 47,
      "outputs": [
        {
          "output_type": "stream",
          "text": [
            "96\n",
            "0:0:36\n"
          ],
          "name": "stdout"
        }
      ]
    },
    {
      "cell_type": "markdown",
      "metadata": {
        "id": "rgUwQD8hEXAW",
        "colab_type": "text"
      },
      "source": [
        "5. Crie o método `calcula_reajuste(preco_antigo, preco_atual)` que receba os valores antigo e atual de um produto e determine o percentual de acréscimo entre esses valores."
      ]
    },
    {
      "cell_type": "code",
      "metadata": {
        "id": "0ualVZWIEXAZ",
        "colab_type": "code",
        "colab": {
          "base_uri": "https://localhost:8080/",
          "height": 68
        },
        "outputId": "96d1c761-8a18-4916-8a2c-3cbfe545bdcd"
      },
      "source": [
        "valorant = float(input());\n",
        "valoratual = float(input());\n",
        "\n",
        "def calcula_reajuste(preco_antigo,preco_atual):\n",
        "  acrescimo = preco_atual - preco_antigo\n",
        "  acrescimo = (acrescimo / preco_antigo) * 100;\n",
        "  return acrescimo;\n",
        "\n",
        "print(str(calcula_reajuste(valorant,valoratual)) + '%');"
      ],
      "execution_count": 41,
      "outputs": [
        {
          "output_type": "stream",
          "text": [
            "100\n",
            "150\n",
            "50.0%\n"
          ],
          "name": "stdout"
        }
      ]
    },
    {
      "cell_type": "markdown",
      "metadata": {
        "id": "adgRxuawEXAg",
        "colab_type": "text"
      },
      "source": [
        "6. Crie o método `imprime_multiplicacao(n)` que receba como parâmetro um número inteiro no intervalo de 1 a 9 (inclusive) e mostre a seguinte tabela de multiplicação (no exemplo, n = 9):\n",
        "\n",
        "\n",
        "1<br/> \n",
        "2  4 <br/>\n",
        "3 6 9  <br/>\n",
        "4 8 12 16  <br/>\n",
        "5 10 15 20 25  <br/>\n",
        "6 12 18 24 30 36  <br/>\n",
        "7 14 21 28 35 42 49  <br/>\n",
        "8 16 24 32 40 48 56 64  <br/>\n",
        "9 18 27 36 45 54 63 72 81  <br/>"
      ]
    },
    {
      "cell_type": "code",
      "metadata": {
        "id": "UTZAYR5YEXAi",
        "colab_type": "code",
        "colab": {
          "base_uri": "https://localhost:8080/",
          "height": 170
        },
        "outputId": "7bc55502-c9f6-486e-8105-f0bee92c53b6"
      },
      "source": [
        "num = int(input());\n",
        "\n",
        "def imprime_multiplicacao(n):\n",
        "  cont = 1\n",
        "  for i in range(cont, n + 1):\n",
        "    print(i)\n",
        "    for j in range(cont, i + 1):\n",
        "      result = j * i\n",
        "      print(result, end=\" \")\n",
        "  \n",
        "print(imprime_multiplicacao(num));"
      ],
      "execution_count": 98,
      "outputs": [
        {
          "output_type": "stream",
          "text": [
            "7\n",
            "1\n",
            "1 2\n",
            "2 4 3\n",
            "3 6 9 4\n",
            "4 8 12 16 5\n",
            "5 10 15 20 25 6\n",
            "6 12 18 24 30 36 7\n",
            "7 14 21 28 35 42 49 None\n"
          ],
          "name": "stdout"
        }
      ]
    },
    {
      "cell_type": "markdown",
      "metadata": {
        "id": "OpoViOqZEXAo",
        "colab_type": "text"
      },
      "source": [
        "7. crie o método `media_alunos(nota1, nota2, nota3, tipo)` que receba as três notas de um aluno como parâmetros e um número inteiro indicando o tipo de média. Se o número for 0, a função deverá calcular a média aritmética das notas do aluno; se for 1, deverá calcular a média ponderada, com pesos os respectivos pesos: 5, 3 e 2. A média calculada deverá ser retornada pela função."
      ]
    },
    {
      "cell_type": "code",
      "metadata": {
        "id": "GPa7Dag2EXAq",
        "colab_type": "code",
        "colab": {
          "base_uri": "https://localhost:8080/",
          "height": 102
        },
        "outputId": "3bf9b542-46ad-4c33-e891-9b103602d979"
      },
      "source": [
        "nota1 = int(input());\n",
        "nota2 = int(input());\n",
        "nota3 = int(input());\n",
        "tipo = int(input());\n",
        "\n",
        "def media_alunos(nota1,nota2,nota3,tipo):\n",
        "  if tipo == 0:\n",
        "    media = (nota1 + nota2 + nota3) / 3\n",
        "  elif tipo == 1:\n",
        "    media = ((nota1 * 5) + (nota2 * 3) + (nota3 * 2)) / (5 + 3 + 2)\n",
        "  else:\n",
        "    media = (nota1 + nota2 + nota3) / 3\n",
        "  return media\n",
        "\n",
        "print(media_alunos(nota1,nota2,nota3,tipo));\n"
      ],
      "execution_count": 96,
      "outputs": [
        {
          "output_type": "stream",
          "text": [
            "10\n",
            "20\n",
            "1\n",
            "1\n",
            "11.2\n"
          ],
          "name": "stdout"
        }
      ]
    },
    {
      "cell_type": "markdown",
      "metadata": {
        "id": "Np7Iv0U2EXAx",
        "colab_type": "text"
      },
      "source": [
        "8. Faça o método `maior_menor(numeros)` que receba um vetor de números inteiros como parâmetro, em seguida, determine e imprima na tela o maior e o menor número."
      ]
    },
    {
      "cell_type": "code",
      "metadata": {
        "id": "dohQpGjZEXA0",
        "colab_type": "code",
        "colab": {
          "base_uri": "https://localhost:8080/",
          "height": 51
        },
        "outputId": "aaeef733-e91a-42f3-83c5-dfd4f58d80ca"
      },
      "source": [
        "numeros = [50,60,70,80,90]\n",
        "\n",
        " def maior_menor(numeros):\n",
        "  menor = numeros[0]\n",
        "  maior = numeros[0]\n",
        "  for i in range(len(numeros)):\n",
        "    if numeros[i] < menor:\n",
        "      menor = numeros[i]\n",
        "  for i in range(len(numeros)):\n",
        "    if numeros[i] > maior:\n",
        "      maior = numeros[i]\n",
        "  print(menor, maior)\n",
        "\n",
        "print(maior_menor(numeros));"
      ],
      "execution_count": 54,
      "outputs": [
        {
          "output_type": "stream",
          "text": [
            "50 90\n",
            "None\n"
          ],
          "name": "stdout"
        }
      ]
    },
    {
      "cell_type": "markdown",
      "metadata": {
        "id": "LQMeeYAWEXA6",
        "colab_type": "text"
      },
      "source": [
        "9. Foi realizada uma pesquisa sobre algumas características físicas dos habitantes de uma região. Foram coletados os seguintes dados de cada habitante: sexo, cor dos olhos (A — azuis; ou C — castanhos), cor dos cabelos (L — louros; P — pretos; ou C — castanhos) e idade. Implemente os seguintes métodos:\n",
        "\n",
        "    1. `leia_dados()`: leia esses dados, armazene e retorne os dados em uma lista;\n",
        "    2. `media_idades(dados)`: calcula e retorne a média de idade das pessoas com olhos castanhos e cabelos pretos;\n",
        "    3. `maior_idade(dados)`: determina e retorne a maior idade entre os habitantes;\n",
        "    4. `frequencia_individuos(dados)`: calcula e retorna a quantidade de indivíduos do sexo feminino com idade entre 18 e 35 anos (inclusive) e que tenham olhos azuis e cabelos louros."
      ]
    },
    {
      "cell_type": "code",
      "metadata": {
        "id": "Ta559ADwEXA8",
        "colab_type": "code",
        "colab": {}
      },
      "source": [
        ""
      ],
      "execution_count": 0,
      "outputs": []
    },
    {
      "cell_type": "markdown",
      "metadata": {
        "id": "B8ksPim5EXBF",
        "colab_type": "text"
      },
      "source": [
        "10. Implemente o método `fatorial(n)` que receba como parâmetro um número inteiro e retorne o fatorial deste número."
      ]
    },
    {
      "cell_type": "code",
      "metadata": {
        "id": "AoFT40dtEXBH",
        "colab_type": "code",
        "colab": {
          "base_uri": "https://localhost:8080/",
          "height": 51
        },
        "outputId": "b5872b74-5a5a-45f5-ed25-b0f1773e7c51"
      },
      "source": [
        "num = int(input());\n",
        "\n",
        "def fatorial(n):\n",
        "  aux = 1\n",
        "  for i in range(n, 1, -1):\n",
        "    aux *= i\n",
        "  return aux\n",
        "\n",
        "print(fatorial(num));"
      ],
      "execution_count": 55,
      "outputs": [
        {
          "output_type": "stream",
          "text": [
            "7\n",
            "5040\n"
          ],
          "name": "stdout"
        }
      ]
    },
    {
      "cell_type": "markdown",
      "metadata": {
        "id": "lHil02LmEXBO",
        "colab_type": "text"
      },
      "source": [
        "11. Faça o método `calcula_fatorial(numeros)` que receba uma lista de números inteiros como parâmetro. Ao final dessa função, deverá ter sido gerado um vetor `resultados_fatorial` contendo o fatorial de cada elemento da lista de números passada como parâmetro."
      ]
    },
    {
      "cell_type": "code",
      "metadata": {
        "id": "tZlPcgahEXBR",
        "colab_type": "code",
        "colab": {
          "base_uri": "https://localhost:8080/",
          "height": 34
        },
        "outputId": "768c8523-e68c-45c1-9c0d-25b0013ededc"
      },
      "source": [
        "numeros = [1,2,3,4,5];\n",
        "\n",
        "def calcula_fatorial(numeros):\n",
        "  result = [];\n",
        "  aux = 1;\n",
        "  for i in range(len(numeros)):\n",
        "    item = numeros[i]\n",
        "    for x in range(item, 1, -1):\n",
        "      aux *= x\n",
        "    result.append(aux)\n",
        "    aux = 1\n",
        "  return result\n",
        "  \n",
        "print(calcula_fatorial(numeros));"
      ],
      "execution_count": 60,
      "outputs": [
        {
          "output_type": "stream",
          "text": [
            "[1, 2, 6, 24, 120]\n"
          ],
          "name": "stdout"
        }
      ]
    },
    {
      "cell_type": "markdown",
      "metadata": {
        "id": "kDUBeqqhEXBa",
        "colab_type": "text"
      },
      "source": [
        "12. Crie o método `identifica_numeros_pares(numeros)` que recebe um vetor de números inteiros como parâmetro, calcule e mostre na tela os números pares e suas respectivas posições."
      ]
    },
    {
      "cell_type": "code",
      "metadata": {
        "id": "jjIx8fA0EXBe",
        "colab_type": "code",
        "colab": {
          "base_uri": "https://localhost:8080/",
          "height": 102
        },
        "outputId": "5aa697d8-2861-4aeb-d2d8-dbe424258a6e"
      },
      "source": [
        "numeros = [1,2,3,4,5,6,7,8,9];\n",
        "\n",
        "def identifica_numeros_pares(numeros):\n",
        "  for i in range(len(numeros)):\n",
        "    if numeros[i] % 2 == 0:\n",
        "      print(numeros[i],numeros.index(numeros[i]));\n",
        "\n",
        "print(identifica_numeros_pares(numeros));"
      ],
      "execution_count": 63,
      "outputs": [
        {
          "output_type": "stream",
          "text": [
            "2 1\n",
            "4 3\n",
            "6 5\n",
            "8 7\n",
            "None\n"
          ],
          "name": "stdout"
        }
      ]
    },
    {
      "cell_type": "markdown",
      "metadata": {
        "id": "4B5msHS8EXBl",
        "colab_type": "text"
      },
      "source": [
        "13. Crie o método `intercala(a, b)` que receba dois vetores númericos como parâmetro e retorne o vetor resultante da intercalação deles, por exemplo:\n",
        "\n",
        "    * Vetor A = [3, 5, 4, 2, 2, 5, 3, 2, 5, 9]\n",
        "    * Vetor B = [7, 15, 20, 0, 18, 4, 55, 23, 8, 6]\n",
        "    * Vetor Intercalado = [3, 7, 5, 15, 4, 20, 2, 0, 2, 18, 5, 4, 3, 55, 2, 23, 5, 8, 9, 6]\n"
      ]
    },
    {
      "cell_type": "code",
      "metadata": {
        "id": "YD3gcIfuEXBn",
        "colab_type": "code",
        "colab": {
          "base_uri": "https://localhost:8080/",
          "height": 34
        },
        "outputId": "72a44819-d849-412a-efc1-3b2a8b0efbb6"
      },
      "source": [
        "numeros1 = [1,3,5,6,8,12];\n",
        "numeros2 = [6,3,5,8,9,4];\n",
        "\n",
        "def intercal(a,b):\n",
        "  result = [];\n",
        "  for i in range(len(a)):\n",
        "    result.append(a[i]);\n",
        "    result.append(b[i]);\n",
        "  return result;\n",
        "\n",
        "print(intercal(numeros1,numeros2));"
      ],
      "execution_count": 69,
      "outputs": [
        {
          "output_type": "stream",
          "text": [
            "[1, 6, 3, 3, 5, 5, 6, 8, 8, 9, 12, 4]\n"
          ],
          "name": "stdout"
        }
      ]
    },
    {
      "cell_type": "markdown",
      "metadata": {
        "id": "iW7pjHXTEXBt",
        "colab_type": "text"
      },
      "source": [
        "14. Implemente o método `uniao(a, b)` que receba dois vetores numéricos como parâmetro, calcule e retorne um vetor numérico com a união entre a e b (A ∪ B), ou seja, que possua todos os elementos dos vetores A e B, sem repetições."
      ]
    },
    {
      "cell_type": "code",
      "metadata": {
        "id": "ndT9QzmXEXBv",
        "colab_type": "code",
        "colab": {
          "base_uri": "https://localhost:8080/",
          "height": 34
        },
        "outputId": "61ff5ebb-6add-476d-df72-b9ca8b675f30"
      },
      "source": [
        "numeros1 = [1,3,5,6,8,12];\n",
        "numeros2 = [6,3,5,8,9,4];\n",
        "\n",
        "def uniao(a,b):\n",
        "  itens = a + b;\n",
        "  itens.sort();\n",
        "  aux = [];\n",
        "  for i in range(len(itens)):\n",
        "    if itens[i] != itens[i - 1]:\n",
        "      aux.append(itens[i])\n",
        "  return aux;\n",
        "\n",
        "print(uniao(numeros1, numeros2));"
      ],
      "execution_count": 70,
      "outputs": [
        {
          "output_type": "stream",
          "text": [
            "[1, 3, 4, 5, 6, 8, 9, 12]\n"
          ],
          "name": "stdout"
        }
      ]
    },
    {
      "cell_type": "markdown",
      "metadata": {
        "id": "9oIHwmkQEXB1",
        "colab_type": "text"
      },
      "source": [
        "15. Implemente o método `diferenca(a, b)` que receba dois vetores numéricos como parâmetro, calcule e retorne um vetor numérico com a diferença entre a e b (A - B), ou seja, todos os elementos do vetores A que não existam no vetor B, sem repetições."
      ]
    },
    {
      "cell_type": "code",
      "metadata": {
        "id": "NQzT6YXvEXB3",
        "colab_type": "code",
        "colab": {
          "base_uri": "https://localhost:8080/",
          "height": 34
        },
        "outputId": "9baa31c7-c0fe-42d4-8f2f-b012a1a9414d"
      },
      "source": [
        "numeros1 = [1,3,5,6,8,12];\n",
        "numeros2 = [6,3,5,8,9,4];\n",
        "\n",
        "def diferenca(a,b):\n",
        "  itens = a + b;\n",
        "  itens.sort();\n",
        "  aux = [];\n",
        "  for i in range(len(itens)):\n",
        "    if itens[i] == itens[i - 1]:\n",
        "      aux.remove(itens[i]);\n",
        "    else:\n",
        "      aux.append(itens[i]);\n",
        "  return aux\n",
        "\n",
        "print(diferenca(numeros1, numeros2));"
      ],
      "execution_count": 68,
      "outputs": [
        {
          "output_type": "stream",
          "text": [
            "[1, 4, 9, 12]\n"
          ],
          "name": "stdout"
        }
      ]
    },
    {
      "cell_type": "markdown",
      "metadata": {
        "id": "K4n7qEMlEXB8",
        "colab_type": "text"
      },
      "source": [
        "16. Implemente o método `intersecao(a, b)` que receba dois vetores numéricos como parâmetro, calcule e retorne um vetor numérico com a intersecção entre a e b (A ∩ B), ou seja, contenha apenas os elementos que aparecem nos dois vetores, sem repetições."
      ]
    },
    {
      "cell_type": "code",
      "metadata": {
        "id": "2bPX11olEXB-",
        "colab_type": "code",
        "colab": {
          "base_uri": "https://localhost:8080/",
          "height": 34
        },
        "outputId": "03292e2a-8185-4d92-84b9-0a6923609829"
      },
      "source": [
        "numeros1 = [1,3,5,6,8,12];\n",
        "numeros2 = [6,3,5,8,9,4];\n",
        "\n",
        "def intersecao(a,b):\n",
        "  itens = a + b;\n",
        "  itens.sort();\n",
        "  aux = [];\n",
        "  for i in range(len(itens)):\n",
        "    if itens[i] == itens[i - 1]:\n",
        "      aux.append(itens[i]);\n",
        "  return aux;\n",
        "\n",
        "print(intersecao(numeros1, numeros2));"
      ],
      "execution_count": 82,
      "outputs": [
        {
          "output_type": "stream",
          "text": [
            "[3, 5, 6, 8]\n"
          ],
          "name": "stdout"
        }
      ]
    },
    {
      "cell_type": "markdown",
      "metadata": {
        "id": "KWDJQvTJEXCK",
        "colab_type": "text"
      },
      "source": [
        "17. Implemente o método `par(n)` que receba como parâmetro um número e retorne verdadeiro (true) se ele for par ou falso (false) se ele for ímpar."
      ]
    },
    {
      "cell_type": "code",
      "metadata": {
        "id": "cL49eOj6EXCN",
        "colab_type": "code",
        "colab": {
          "base_uri": "https://localhost:8080/",
          "height": 68
        },
        "outputId": "4af933b1-1672-41da-ff93-d2339473a2a9"
      },
      "source": [
        "num = int(input());\n",
        "\n",
        "def par(n):\n",
        "  if n % 2 == 0:\n",
        "    print('true'); \n",
        "  else:\n",
        "     print('false')\n",
        "\n",
        "print(par(num));  "
      ],
      "execution_count": 85,
      "outputs": [
        {
          "output_type": "stream",
          "text": [
            "4\n",
            "true\n",
            "None\n"
          ],
          "name": "stdout"
        }
      ]
    },
    {
      "cell_type": "markdown",
      "metadata": {
        "id": "QDjv1cHLEXCT",
        "colab_type": "text"
      },
      "source": [
        "18. Implemente o método `max(numeros)` que receba como parâmetro uma lista de números e retorne o *maior número* encontrado na lista."
      ]
    },
    {
      "cell_type": "code",
      "metadata": {
        "id": "gUdZWubCEXCU",
        "colab_type": "code",
        "colab": {
          "base_uri": "https://localhost:8080/",
          "height": 34
        },
        "outputId": "7437a84e-7f3c-4e0f-c59d-d7858f765979"
      },
      "source": [
        "numeros = [1,3,5,6,8,12];\n",
        "\n",
        "def max(numeros):\n",
        "  aux = 0;\n",
        "  for i in range(len(numeros)):\n",
        "    if numeros[i] > aux:\n",
        "      aux = numeros[i]\n",
        "  return aux;\n",
        "\n",
        "print(max(numeros));"
      ],
      "execution_count": 90,
      "outputs": [
        {
          "output_type": "stream",
          "text": [
            "12\n"
          ],
          "name": "stdout"
        }
      ]
    },
    {
      "cell_type": "markdown",
      "metadata": {
        "id": "1Nx_JPGXEXCa",
        "colab_type": "text"
      },
      "source": [
        "19. Implemente o método `min(numeros)` que receba como parâmetro uma lista de números e retorne o *menor número* encontrado na lista."
      ]
    },
    {
      "cell_type": "code",
      "metadata": {
        "id": "XQdx4IuhEXCb",
        "colab_type": "code",
        "colab": {
          "base_uri": "https://localhost:8080/",
          "height": 34
        },
        "outputId": "288453f2-ae0e-4a5a-e086-10aaef864523"
      },
      "source": [
        "numeros = [1,3,5,6,8,12];\n",
        "\n",
        "def min(numeros):\n",
        "  aux = numeros[0];\n",
        "  for i in range(len(numeros)):\n",
        "    if numeros[i] < aux:\n",
        "      aux = numeros[i]\n",
        "  return aux;\n",
        "\n",
        "print(min(numeros));"
      ],
      "execution_count": 92,
      "outputs": [
        {
          "output_type": "stream",
          "text": [
            "1\n"
          ],
          "name": "stdout"
        }
      ]
    },
    {
      "cell_type": "markdown",
      "metadata": {
        "id": "7tJZKWL5EXCh",
        "colab_type": "text"
      },
      "source": [
        "20. Escreva o método `multiplo(a, b)` que receba dois números inteiros como parâmetro e retorne verdadeiro (true) se o primeiro for um múltiplo do segundo. Por exemplo: \n",
        "\n",
        "    * Se o usuário digitar 15 e 3, o primeiro número será múltiplo do segundo;\n",
        "    * Se o usuário digitar 2 e 4, o primeiro número não será múltiplo do segundo. \n",
        "\n",
        "> **Dica:** use o operador módulo para obter o resto da divisão.\n"
      ]
    },
    {
      "cell_type": "code",
      "metadata": {
        "id": "vPwrWem_EXCj",
        "colab_type": "code",
        "colab": {
          "base_uri": "https://localhost:8080/",
          "height": 85
        },
        "outputId": "ed70fd83-80b3-449e-dddd-5037d26b3c46"
      },
      "source": [
        "num1 = int(input());\n",
        "num2 = int(input());\n",
        "\n",
        "def multiplo(a, b):\n",
        "  if a % b == 0:\n",
        "    print('true');\n",
        "  else:\n",
        "    print('false');\n",
        "\n",
        "print(multiplo(num1,num2));"
      ],
      "execution_count": 95,
      "outputs": [
        {
          "output_type": "stream",
          "text": [
            "2\n",
            "10\n",
            "false\n",
            "None\n"
          ],
          "name": "stdout"
        }
      ]
    },
    {
      "cell_type": "markdown",
      "metadata": {
        "id": "_o5SAKW-EXCs",
        "colab_type": "text"
      },
      "source": [
        "21. Implemente o método `imprime_vetor(vetor, codigo)` que receba como parâmetro um vetor de itens que será impresso e um código indicando a ordem da impressão. Se o código for igual a 0, o vetor deverá ser impresso de maneira crescente, caso contrário, se o código for igual a 1 o vetor deverá ser impresso de maneira decrescente. "
      ]
    },
    {
      "cell_type": "code",
      "metadata": {
        "id": "aJz0AdBjEXCu",
        "colab_type": "code",
        "colab": {
          "base_uri": "https://localhost:8080/",
          "height": 34
        },
        "outputId": "7d869527-bfa6-4b97-8efa-d65d588f17de"
      },
      "source": [
        "numeros = [1,3,5,6,8,12];\n",
        "codigo = 1;\n",
        "\n",
        "def imprime_vetor(vetor,codigo):\n",
        "  vetor.sort();\n",
        "  result = [];\n",
        "  if codigo == 1:\n",
        "    for i in vetor[::-1]:\n",
        "      result.append(i)\n",
        "  else:\n",
        "    result = vetor\n",
        "  return result;\n",
        "\n",
        "print(imprime_vetor(numeros,codigo));"
      ],
      "execution_count": 104,
      "outputs": [
        {
          "output_type": "stream",
          "text": [
            "[12, 8, 6, 5, 3, 1]\n"
          ],
          "name": "stdout"
        }
      ]
    },
    {
      "cell_type": "markdown",
      "metadata": {
        "id": "A4gAjTqZEXCz",
        "colab_type": "text"
      },
      "source": [
        "22. Implemente o método `primo(n)` que receba um número como parâmetro e retorna verdadeiro (true) se ele for primo, caso contrário, falso (false). \n",
        "\n",
        "> Um número é primo quando é divisível apenas por 1 e por ele mesmo"
      ]
    },
    {
      "cell_type": "code",
      "metadata": {
        "id": "evscIf5BEXC2",
        "colab_type": "code",
        "colab": {
          "base_uri": "https://localhost:8080/",
          "height": 68
        },
        "outputId": "e88fd26f-79bb-4ec7-ac78-d239fc455bfe"
      },
      "source": [
        "num = int(input());\n",
        "\n",
        "def primo(n):\n",
        "  if n % 2 == 1:\n",
        "    print('true'); \n",
        "  else:\n",
        "    print('false');\n",
        "    \n",
        "print(primo(num));"
      ],
      "execution_count": 106,
      "outputs": [
        {
          "output_type": "stream",
          "text": [
            "18\n",
            "false\n",
            "None\n"
          ],
          "name": "stdout"
        }
      ]
    },
    {
      "cell_type": "markdown",
      "metadata": {
        "id": "Ge4vKJQOEXC7",
        "colab_type": "text"
      },
      "source": [
        "23. Crie o método `media(numeros)` que receba uma lista de números como parâmetro e retorno a média artimética."
      ]
    },
    {
      "cell_type": "code",
      "metadata": {
        "id": "yxe_jW4BEXC-",
        "colab_type": "code",
        "colab": {
          "base_uri": "https://localhost:8080/",
          "height": 34
        },
        "outputId": "e616b3dc-7db0-404f-eb6e-0200f82a260d"
      },
      "source": [
        "numeros = [1,3,5,6,8,12];\n",
        "\n",
        "def media(numeros):\n",
        "  result = 0\n",
        "  for i in numeros:\n",
        "    result += i\n",
        "  return result / len(numeros)\n",
        "\n",
        "print(round(media(numeros),0));"
      ],
      "execution_count": 108,
      "outputs": [
        {
          "output_type": "stream",
          "text": [
            "6.0\n"
          ],
          "name": "stdout"
        }
      ]
    },
    {
      "cell_type": "markdown",
      "metadata": {
        "id": "DlLyo7BIEXDE",
        "colab_type": "text"
      },
      "source": [
        "24. Faça o método `analisa_numeros(numeros)` que receba uma lista de números como parâmetro, calcule e mostre:\n",
        "\n",
        "    1. A Soma dos números;\n",
        "    2. A quantidade de números;\n",
        "    3. A média dos números;\n",
        "    4. O maior número;\n",
        "    5. O menor número;\n",
        "    6. A média dos números pares;\n",
        "    7. A porcentagem dos números ímpares entre todos os números da lista.\n",
        "\n",
        "> Você pode utilizar métodos criados nos exercícios anteriores."
      ]
    },
    {
      "cell_type": "code",
      "metadata": {
        "id": "HznkdOA4EXDH",
        "colab_type": "code",
        "colab": {}
      },
      "source": [
        ""
      ],
      "execution_count": 0,
      "outputs": []
    },
    {
      "cell_type": "markdown",
      "metadata": {
        "id": "IDceU1zIEXDM",
        "colab_type": "text"
      },
      "source": [
        "25. Uma empresa quer transmitir dados pelo telefone, mas está preocupada com a interceptação telefônica. Todos os seus dados são transmitidos  como inteiros de quatro dígitos. Ela pediu para que você escreva um programa que criptografe seus dados, para que eles possam ser transmitidos com mais segurança. Implemente a função `criptogra(numero)` que receba como parâmetro um número inteiro de quatro dígitos e criptografe-o da seguinte forma: \n",
        "\n",
        "    * Substitua cada um dos dígitos do número usando a seguinte fórmula: `(digito +  7) módulo 10`; \n",
        "    * Após a substituição, troque o primeiro dígito pelo terceiro e troque o segundo dígito pelo quarto;\n",
        "    * Retorne o número inteiro criptografado.\n"
      ]
    },
    {
      "cell_type": "code",
      "metadata": {
        "id": "bQU34O6xEXDP",
        "colab_type": "code",
        "colab": {
          "base_uri": "https://localhost:8080/",
          "height": 34
        },
        "outputId": "e041c560-605f-4830-f874-878e16415540"
      },
      "source": [
        "telefone = 3363;\n",
        "\n",
        "def criptogra(numero):\n",
        "  numero = str(numero);\n",
        "  result = [];\n",
        "  for i in numero:\n",
        "    i = (int(i) + 7) % 10;\n",
        "    result.append(int(i));\n",
        "  result[0],result[1] = result[2],result[3];\n",
        "  return result;\n",
        "\n",
        "print(criptogra(telefone));"
      ],
      "execution_count": 114,
      "outputs": [
        {
          "output_type": "stream",
          "text": [
            "[3, 0, 3, 0]\n"
          ],
          "name": "stdout"
        }
      ]
    }
  ]
}
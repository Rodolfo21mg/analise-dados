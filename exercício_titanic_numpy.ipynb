{
  "nbformat": 4,
  "nbformat_minor": 0,
  "metadata": {
    "kernelspec": {
      "display_name": "Python 3",
      "language": "python",
      "name": "python3"
    },
    "language_info": {
      "codemirror_mode": {
        "name": "ipython",
        "version": 3
      },
      "file_extension": ".py",
      "mimetype": "text/x-python",
      "name": "python",
      "nbconvert_exporter": "python",
      "pygments_lexer": "ipython3",
      "version": "3.7.4"
    },
    "colab": {
      "name": "exercício_titanic_numpy.ipynb",
      "provenance": [],
      "collapsed_sections": [],
      "toc_visible": true
    }
  },
  "cells": [
    {
      "cell_type": "markdown",
      "metadata": {
        "id": "MitdMLDQGJ3j",
        "colab_type": "text"
      },
      "source": [
        "![titanic](img/titanic_historical.jpg \"Pintura do Titanic\")\n",
        "\n",
        "# EXERCÍCIOS: Análise de Dados do Titanic"
      ]
    },
    {
      "cell_type": "markdown",
      "metadata": {
        "id": "wN26EF_tGJ3n",
        "colab_type": "text"
      },
      "source": [
        "O RMS Titanic foi um navio de passageiros britânico operado pela empresa *White Star Line* que afundou no Oceano Atlântico Norte nas primeiras horas da manhã de 15 de abril de 1912, depois de atingir um iceberg durante sua viagem inaugural de Southampton a Nova York. Dos 2.224 passageiros e tripulantes a bordo, mais de 1.500 morreram, tornando o naufrágio um dos desastres marítimos comerciais mais mortais da história moderna em tempos de paz.\n",
        "\n",
        "Neste estudo iremos explorar um conjunto de dados baseado na lista de passageiros do Titanic editada por Michael A. Findlay, publicada originalmente em Eaton & Haas (1994) Titanic: Triumph and Tragedy, Patrick Stephens Ltd, e expandida com a ajuda da comunidade da Internet. Os arquivos HTML originais foram obtidos por Philip Hind (1999) e o *dataset* descreve o status de sobrevivência de passageiros individuais no Titanic. Ele não contém informações para a tripulação, mas contém idades atuais e estimadas para quase 80% dos passageiros."
      ]
    },
    {
      "cell_type": "markdown",
      "metadata": {
        "id": "YN7rGWTxGJ3n",
        "colab_type": "text"
      },
      "source": [
        "## Dicionário de Dados\n",
        "\n",
        "Nesta seção será apresentado todo o processo de preparação, organização e limpeza de dados feito no *dataset* que possui os seguintes dados:\n",
        "\n",
        "| Nº | Coluna          | Descrição                                                                 |\n",
        "|:--:|:----------------|:--------------------------------------------------------------------------|\n",
        "|  1 | id_passageiro   | Identficador único do passageiro.                                         |\n",
        "|  2 | classe          | Classe social.                                                            |\n",
        "|  3 | sobreviveu      | Sobrevivente? Sim (1), Não (0).                                           |\n",
        "|  4 | nome            | Nome do passageiro.                                                       |\n",
        "|  5 | sexo            | Masculino (male), Feminino (female).                                      |\n",
        "|  6 | idade           | Idade do passageiro.                                                      |\n",
        "|  7 | irmaos_conjuges | Número de irmãos e cônjuges a bordo.                                      |\n",
        "|  8 | pais_filhos     | Número de pais e filhos a bordo.                                          |\n",
        "|  9 | bilhete         | Número do bilhete                                                         |\n",
        "| 10 | tarifa          | Preço da tarifa do passageiro.                                            |\n",
        "| 11 | cabine          | Cabine.                                                                   |\n",
        "| 12 | embarque        | Nome do porto de embarque: C = Cherbourg; Q = Queenstown; S = Southampton |\n",
        "| 13 | bote            | Bote salva vidas.                                                         |\n",
        "| 14 | corpo           | Número de identificação do corpo.                                         |\n",
        "| 15 | destino         | Local de desembarque do passageiro.                                       |\n",
        "\n",
        "### OBSERVAÇÕES\n",
        "\n",
        "- `classe` é uma aproximação do status socioeconômico na época, onde: 1 = Classe Alta1; 2 = Classe Média e 3 = Classe Baixa;\n",
        "- `idade` está representada em anos, porém, se a idade for menor que Um (1) ou caso tenha sido estimada, ela estará com casas decimais xx.5;\n",
        "- `tarifa` está em Libras esterlinas (British Pounds - £) anteriores a 1970;\n",
        "- `irmaos_conjuges` e `pais_filhos`: as variáveis de relação familiar de algumas relações foram ignoradas; a seguir estão as definições usadas:\n",
        "    - **Irmão**: Irmão, irmã, meio-irmão ou meia-irmã do passageiro a bordo do Titanic;\n",
        "    - **Cônjuge**: Marido ou esposa do passageiro a bordo do Titanic (amantes e noivos ignorados);\n",
        "    - **Pai**: Mãe ou pai do passageiro a bordo do Titanic;\n",
        "    - **Criança**: Filho, Filha, Enteado ou Enteada do Passageiro a bordo do Titanic;\n",
        "    - Outros parentes excluídos deste estudo incluem primos, sobrinhos / sobrinhas, tias / tios e parentes;\n",
        "    - Algumas crianças viajavam apenas com uma babá, portanto foi atribuído 0 para elas em pais_filhos; \n",
        "    - Alguns viajaram com amigos ou vizinhos muito próximos em uma vila, no entanto, as definições não apóiam essas relações.\n"
      ]
    },
    {
      "cell_type": "markdown",
      "metadata": {
        "id": "clsvXhOjGJ3p",
        "colab_type": "text"
      },
      "source": [
        "## Exercícios\n",
        "Faça as questões abaixo usando somente a biblioteca [Numpy](https://numpy.org/)."
      ]
    },
    {
      "cell_type": "markdown",
      "metadata": {
        "id": "JN-a76I9GJ3q",
        "colab_type": "text"
      },
      "source": [
        "1. Importe o pacote numpy com o nome np."
      ]
    },
    {
      "cell_type": "code",
      "metadata": {
        "id": "2f3xtmOnGJ3r",
        "colab_type": "code",
        "colab": {}
      },
      "source": [
        "import numpy as np"
      ],
      "execution_count": 3,
      "outputs": []
    },
    {
      "cell_type": "markdown",
      "metadata": {
        "id": "UpAfc-w1GJ3x",
        "colab_type": "text"
      },
      "source": [
        "2. Carregue o conjunto de dados disponível na pasta [data/titanic3.csv](data/titanic3.csv), ignorando as colunas: `cabine`, `bote`, `corpo` e `destino`. **Importante:** o arquivo `.csv` usa tabulação (`\\t`) como delimitador de campos."
      ]
    },
    {
      "cell_type": "code",
      "metadata": {
        "id": "CaWfhm9jGJ3z",
        "colab_type": "code",
        "colab": {}
      },
      "source": [
        "dados = np.genfromtxt('./sample_data/titanic3.csv',\n",
        "                      delimiter='\\t',\n",
        "                      encoding='utf-8',\n",
        "                      dtype=object,\n",
        "                      skip_header=True,\n",
        "                      usecols=[0, 1, 2, 3, 4, 5, 6, 7, 9,11])\n"
      ],
      "execution_count": 164,
      "outputs": []
    },
    {
      "cell_type": "markdown",
      "metadata": {
        "id": "kQUuAmO-GJ34",
        "colab_type": "text"
      },
      "source": [
        "3. Quantas linhas foram lidas do arquivo?"
      ]
    },
    {
      "cell_type": "code",
      "metadata": {
        "id": "pPf43Os2GJ35",
        "colab_type": "code",
        "colab": {
          "base_uri": "https://localhost:8080/",
          "height": 35
        },
        "outputId": "14574041-834a-4622-b222-ddb86e20918a"
      },
      "source": [
        "len(np.array(dados))"
      ],
      "execution_count": 90,
      "outputs": [
        {
          "output_type": "execute_result",
          "data": {
            "text/plain": [
              "1309"
            ]
          },
          "metadata": {
            "tags": []
          },
          "execution_count": 90
        }
      ]
    },
    {
      "cell_type": "markdown",
      "metadata": {
        "id": "LA5-u9MnGJ38",
        "colab_type": "text"
      },
      "source": [
        "4. Quantas dimensões sua variável dados possui?"
      ]
    },
    {
      "cell_type": "code",
      "metadata": {
        "id": "6knXDKAkGJ39",
        "colab_type": "code",
        "colab": {
          "base_uri": "https://localhost:8080/",
          "height": 35
        },
        "outputId": "a84af2f4-c939-466b-bce6-b75ac5051f1d"
      },
      "source": [
        "np.ndim(dados)"
      ],
      "execution_count": 8,
      "outputs": [
        {
          "output_type": "execute_result",
          "data": {
            "text/plain": [
              "2"
            ]
          },
          "metadata": {
            "tags": []
          },
          "execution_count": 8
        }
      ]
    },
    {
      "cell_type": "markdown",
      "metadata": {
        "id": "XyhFJCPIGJ4B",
        "colab_type": "text"
      },
      "source": [
        "5. Obtenha os índices das posições onde existam dados ausentes."
      ]
    },
    {
      "cell_type": "code",
      "metadata": {
        "id": "F868H2x-GJ4B",
        "colab_type": "code",
        "colab": {
          "base_uri": "https://localhost:8080/",
          "height": 35
        },
        "outputId": "aa9322c8-2e72-461a-a86c-16f950463e67"
      },
      "source": [
        "ausentes = np.where(dados == '')\n",
        "print(ausentes)"
      ],
      "execution_count": 19,
      "outputs": [
        {
          "output_type": "stream",
          "text": [
            "(array([], dtype=int64), array([], dtype=int64))\n"
          ],
          "name": "stdout"
        }
      ]
    },
    {
      "cell_type": "markdown",
      "metadata": {
        "id": "n4iy_SdnGJ4F",
        "colab_type": "text"
      },
      "source": [
        "6. Remova todas as linhas que possuem dados ausentes."
      ]
    },
    {
      "cell_type": "code",
      "metadata": {
        "id": "dI5kuCB9GJ4J",
        "colab_type": "code",
        "colab": {
          "base_uri": "https://localhost:8080/",
          "height": 243
        },
        "outputId": "9e74de75-5c9f-45c9-b333-47e907a236fd"
      },
      "source": [
        "np.delete(dados,ausentes,axis=0)"
      ],
      "execution_count": 148,
      "outputs": [
        {
          "output_type": "execute_result",
          "data": {
            "text/plain": [
              "array([[1.000000e+00, 1.000000e+00, 1.000000e+00, ..., 0.000000e+00,\n",
              "        2.113375e+02,          nan],\n",
              "       [2.000000e+00, 1.000000e+00, 1.000000e+00, ..., 2.000000e+00,\n",
              "        1.515500e+02,          nan],\n",
              "       [3.000000e+00, 1.000000e+00, 0.000000e+00, ..., 2.000000e+00,\n",
              "        1.515500e+02,          nan],\n",
              "       ...,\n",
              "       [1.307000e+03, 3.000000e+00, 0.000000e+00, ..., 0.000000e+00,\n",
              "        7.225000e+03,          nan],\n",
              "       [1.308000e+03, 3.000000e+00, 0.000000e+00, ..., 0.000000e+00,\n",
              "        7.225000e+03,          nan],\n",
              "       [1.309000e+03, 3.000000e+00, 0.000000e+00, ..., 0.000000e+00,\n",
              "        7.875000e+03,          nan]])"
            ]
          },
          "metadata": {
            "tags": []
          },
          "execution_count": 148
        }
      ]
    },
    {
      "cell_type": "markdown",
      "metadata": {
        "id": "38sL_Av6GJ4N",
        "colab_type": "text"
      },
      "source": [
        "7. Mostre todos os dados das 5 primeiras linhas do dataset."
      ]
    },
    {
      "cell_type": "code",
      "metadata": {
        "id": "HaPQsVj-GJ4O",
        "colab_type": "code",
        "colab": {
          "base_uri": "https://localhost:8080/",
          "height": 225
        },
        "outputId": "ab7b7dd0-ae0f-462e-9a2b-bf5251e83721"
      },
      "source": [
        "print(dados[:6])"
      ],
      "execution_count": 24,
      "outputs": [
        {
          "output_type": "stream",
          "text": [
            "[[b'1' b'1' b'1' b'Allen, Miss. Elisabeth Walton' b'female' b'29' b'0'\n",
            "  b'0' b'211.3375' b'S']\n",
            " [b'2' b'1' b'1' b'Allison, Master. Hudson Trevor' b'male' b'1' b'1' b'2'\n",
            "  b'151.5500' b'S']\n",
            " [b'3' b'1' b'0' b'Allison, Miss. Helen Loraine' b'female' b'2' b'1' b'2'\n",
            "  b'151.5500' b'S']\n",
            " [b'4' b'1' b'0' b'Allison, Mr. Hudson Joshua Creighton' b'male' b'30'\n",
            "  b'1' b'2' b'151.5500' b'S']\n",
            " [b'5' b'1' b'0' b'Allison, Mrs. Hudson J C (Bessie Waldo Daniels)'\n",
            "  b'female' b'25' b'1' b'2' b'151.5500' b'S']\n",
            " [b'6' b'1' b'1' b'Anderson, Mr. Harry' b'male' b'48' b'0' b'0'\n",
            "  b'26.5500' b'S']]\n"
          ],
          "name": "stdout"
        }
      ]
    },
    {
      "cell_type": "markdown",
      "metadata": {
        "id": "rdwv3660GJ4R",
        "colab_type": "text"
      },
      "source": [
        "8. Crie as variáveis: `idade`, `irmaos_conjuges`, `pais_filhos` e `tarifa`; com todos os dados dessas colunas, e, tipos de dados conforme a tabela abaixo:\n",
        "\n",
        "| Nº | Coluna          | Tipo de Dados |\n",
        "|:--:|-----------------|---------------|\n",
        "|  6 | idade           | int           |\n",
        "|  7 | irmaos_conjuges | int           |\n",
        "|  8 | pais_filhos     | int           |\n",
        "| 10 | tarifa          | float         |"
      ]
    },
    {
      "cell_type": "code",
      "metadata": {
        "id": "P8WZngpKGJ4S",
        "colab_type": "code",
        "colab": {}
      },
      "source": [
        "idade = dados[:,5]\n",
        "irmaos_conjuges = dados[:,6]\n",
        "pais_filhos = dados[:,7]\n",
        "tarifa = dados[:,8]"
      ],
      "execution_count": 166,
      "outputs": []
    },
    {
      "cell_type": "markdown",
      "metadata": {
        "id": "20UyT2UsGJ4W",
        "colab_type": "text"
      },
      "source": [
        "9. Selecione as primeiras 5 linhas dos dados."
      ]
    },
    {
      "cell_type": "code",
      "metadata": {
        "id": "hR6HvbUnGJ4W",
        "colab_type": "code",
        "colab": {
          "base_uri": "https://localhost:8080/",
          "height": 225
        },
        "outputId": "8eaa0e36-b453-4fa3-a15d-4500321744f9"
      },
      "source": [
        "print(dados[:6])"
      ],
      "execution_count": 165,
      "outputs": [
        {
          "output_type": "stream",
          "text": [
            "[[b'1' b'1' b'1' b'Allen, Miss. Elisabeth Walton' b'female' b'29' b'0'\n",
            "  b'0' b'211.3375' b'S']\n",
            " [b'2' b'1' b'1' b'Allison, Master. Hudson Trevor' b'male' b'1' b'1' b'2'\n",
            "  b'151.5500' b'S']\n",
            " [b'3' b'1' b'0' b'Allison, Miss. Helen Loraine' b'female' b'2' b'1' b'2'\n",
            "  b'151.5500' b'S']\n",
            " [b'4' b'1' b'0' b'Allison, Mr. Hudson Joshua Creighton' b'male' b'30'\n",
            "  b'1' b'2' b'151.5500' b'S']\n",
            " [b'5' b'1' b'0' b'Allison, Mrs. Hudson J C (Bessie Waldo Daniels)'\n",
            "  b'female' b'25' b'1' b'2' b'151.5500' b'S']\n",
            " [b'6' b'1' b'1' b'Anderson, Mr. Harry' b'male' b'48' b'0' b'0'\n",
            "  b'26.5500' b'S']]\n"
          ],
          "name": "stdout"
        }
      ]
    },
    {
      "cell_type": "markdown",
      "metadata": {
        "id": "hvsSvMyUGJ4c",
        "colab_type": "text"
      },
      "source": [
        "10. Considerando o vetor `idades`, selecione todas as idades das crianças a bordo menores de 12 anos inclusive."
      ]
    },
    {
      "cell_type": "code",
      "metadata": {
        "id": "PWyr1i0VGJ4d",
        "colab_type": "code",
        "colab": {}
      },
      "source": [
        ""
      ],
      "execution_count": 206,
      "outputs": []
    },
    {
      "cell_type": "markdown",
      "metadata": {
        "id": "jd_mjw4qGJ4h",
        "colab_type": "text"
      },
      "source": [
        "11. Qual é a média das idades?"
      ]
    },
    {
      "cell_type": "code",
      "metadata": {
        "id": "qqbdWlM3GJ4h",
        "colab_type": "code",
        "colab": {}
      },
      "source": [
        ""
      ],
      "execution_count": 171,
      "outputs": []
    },
    {
      "cell_type": "markdown",
      "metadata": {
        "id": "UVDA79dcGJ4k",
        "colab_type": "text"
      },
      "source": [
        "12. Quais é a maior e menor idade?"
      ]
    },
    {
      "cell_type": "code",
      "metadata": {
        "id": "J9Dc5TuiGJ4k",
        "colab_type": "code",
        "colab": {
          "base_uri": "https://localhost:8080/",
          "height": 52
        },
        "outputId": "dd24f0a7-6d9e-42e2-a52b-a3fae40ff58a"
      },
      "source": [
        "print(dados[:,[5]].max())\n",
        "print(dados[:,[5]].min())"
      ],
      "execution_count": 206,
      "outputs": [
        {
          "output_type": "stream",
          "text": [
            "b'9'\n",
            "b''\n"
          ],
          "name": "stdout"
        }
      ]
    },
    {
      "cell_type": "markdown",
      "metadata": {
        "id": "0t3dpQ1RGJ4p",
        "colab_type": "text"
      },
      "source": [
        "13. Crie um vetor chamado `sobreviventes` com todos os dados das pessoas que sobreviveram ao naufrágio."
      ]
    },
    {
      "cell_type": "code",
      "metadata": {
        "id": "FTDjY9TUGJ4q",
        "colab_type": "code",
        "colab": {
          "base_uri": "https://localhost:8080/",
          "height": 243
        },
        "outputId": "d24c203c-d179-4e71-ef4f-fb52edc0f02b"
      },
      "source": [
        "condicao = dados[:,2].astype(int) == 1\n",
        "sobreviventes = dados[condicao,:]\n",
        "print(sobreviventes)"
      ],
      "execution_count": 115,
      "outputs": [
        {
          "output_type": "stream",
          "text": [
            "[[1.000000e+00 1.000000e+00 1.000000e+00 ... 0.000000e+00 2.113375e+02\n",
            "           nan]\n",
            " [2.000000e+00 1.000000e+00 1.000000e+00 ... 2.000000e+00 1.515500e+02\n",
            "           nan]\n",
            " [6.000000e+00 1.000000e+00 1.000000e+00 ... 0.000000e+00 2.655000e+01\n",
            "           nan]\n",
            " ...\n",
            " [1.287000e+03 3.000000e+00 1.000000e+00 ... 0.000000e+00 7.229200e+00\n",
            "           nan]\n",
            " [1.291000e+03 3.000000e+00 1.000000e+00 ... 0.000000e+00 7.000000e+00\n",
            "           nan]\n",
            " [1.301000e+03 3.000000e+00 1.000000e+00 ... 0.000000e+00 1.445420e+01\n",
            "           nan]]\n"
          ],
          "name": "stdout"
        }
      ]
    },
    {
      "cell_type": "markdown",
      "metadata": {
        "id": "Ejs2Pai3GJ4s",
        "colab_type": "text"
      },
      "source": [
        "14. Segundo este conjunto de dados, quantas pessoas sobreviveram ao naufrágio?"
      ]
    },
    {
      "cell_type": "code",
      "metadata": {
        "id": "1LVN2QstGJ4t",
        "colab_type": "code",
        "colab": {}
      },
      "source": [
        ""
      ],
      "execution_count": null,
      "outputs": []
    },
    {
      "cell_type": "markdown",
      "metadata": {
        "id": "DIGTPZJaGJ4x",
        "colab_type": "text"
      },
      "source": [
        "15.  Considerando a coluna `idade` dos sobreviventes calcule:\n",
        "    - Média\n",
        "    - Mediana\n",
        "    - Máximo\n",
        "    - Mínimo"
      ]
    },
    {
      "cell_type": "code",
      "metadata": {
        "id": "5wXnHc38GJ4y",
        "colab_type": "code",
        "colab": {}
      },
      "source": [
        ""
      ],
      "execution_count": null,
      "outputs": []
    },
    {
      "cell_type": "markdown",
      "metadata": {
        "id": "tXma0EZ5GJ40",
        "colab_type": "text"
      },
      "source": [
        "16. Crie um vetor chamado `vitimas_naufragio` com todos os dados das pessoas que não sobreviveram ao naufrágio."
      ]
    },
    {
      "cell_type": "code",
      "metadata": {
        "id": "R_J6FVS6GJ41",
        "colab_type": "code",
        "colab": {
          "base_uri": "https://localhost:8080/",
          "height": 139
        },
        "outputId": "bfdfc95f-aab0-402a-bff8-b497d08e3d5e"
      },
      "source": [
        "condicao = dados[:,2].astype(int) == 0\n",
        "vitimas_naufragio = dados[condicao,:]\n",
        "print(vitimas_naufragio)"
      ],
      "execution_count": 200,
      "outputs": [
        {
          "output_type": "stream",
          "text": [
            "[[b'3' b'1' b'0' ... b'2' b'151.5500' b'S']\n",
            " [b'4' b'1' b'0' ... b'2' b'151.5500' b'S']\n",
            " [b'5' b'1' b'0' ... b'2' b'151.5500' b'S']\n",
            " ...\n",
            " [b'1307' b'3' b'0' ... b'0' b'7225.0000' b'C']\n",
            " [b'1308' b'3' b'0' ... b'0' b'7225.0000' b'C']\n",
            " [b'1309' b'3' b'0' ... b'0' b'7875.0000' b'S']]\n"
          ],
          "name": "stdout"
        }
      ]
    },
    {
      "cell_type": "markdown",
      "metadata": {
        "id": "3cdXgu7rGJ46",
        "colab_type": "text"
      },
      "source": [
        "17. Considerando a coluna `vitimas_naufragio` dos sobreviventes calcule:\n",
        "    - Média\n",
        "    - Mediana\n",
        "    - Máximo\n",
        "    - Mínimo"
      ]
    },
    {
      "cell_type": "code",
      "metadata": {
        "id": "EgwTQ3XwGJ46",
        "colab_type": "code",
        "colab": {
          "base_uri": "https://localhost:8080/",
          "height": 52
        },
        "outputId": "43bd70a2-3989-4f29-be79-ac75d7880704"
      },
      "source": [
        "print(vitimas_naufragio.min())\n",
        "print(vitimas_naufragio.max())"
      ],
      "execution_count": 205,
      "outputs": [
        {
          "output_type": "stream",
          "text": [
            "b''\n",
            "b'van Melkebeke, Mr. Philemon'\n"
          ],
          "name": "stdout"
        }
      ]
    },
    {
      "cell_type": "markdown",
      "metadata": {
        "id": "n8mU5O2WGJ4-",
        "colab_type": "text"
      },
      "source": [
        "18. Qual era o preço médio das tarifas?"
      ]
    },
    {
      "cell_type": "code",
      "metadata": {
        "id": "j7oWP2L7GJ4_",
        "colab_type": "code",
        "colab": {}
      },
      "source": [
        ""
      ],
      "execution_count": 185,
      "outputs": []
    },
    {
      "cell_type": "markdown",
      "metadata": {
        "id": "AiUDPk_yGJ5B",
        "colab_type": "text"
      },
      "source": [
        "19. Crie os vetores `classe_alta`, `classe_media` e `classe_baixa`, com os respectivos dados da coluna `classe` no qual:\n",
        "    - 1 = Classe Alta\n",
        "    - 2 = Classe Média\n",
        "    - 3 = Classe Baixa"
      ]
    },
    {
      "cell_type": "code",
      "metadata": {
        "id": "VOlVRPPCGJ5B",
        "colab_type": "code",
        "colab": {}
      },
      "source": [
        "col1 = dados[:, 1] == 1\n",
        "classe_alta = len(dados[col1, :])\n",
        "col2 = dados[:, 1] == 2\n",
        "classe_media = len(dados[col2, :])\n",
        "col3 = dados[:, 1] == 3\n",
        "classe_baixa = len(dados[col3, :])"
      ],
      "execution_count": 78,
      "outputs": []
    },
    {
      "cell_type": "markdown",
      "metadata": {
        "id": "fLNiE33QGJ5E",
        "colab_type": "text"
      },
      "source": [
        "20. Qual é o número total de passageiros por classe social?"
      ]
    },
    {
      "cell_type": "code",
      "metadata": {
        "id": "4wKQFZPJGJ5E",
        "colab_type": "code",
        "colab": {
          "base_uri": "https://localhost:8080/",
          "height": 69
        },
        "outputId": "b9e32075-9be8-433e-c5da-f9da633c575e"
      },
      "source": [
        "print(classe_alta)\n",
        "print(classe_media)\n",
        "print(classe_baixa)"
      ],
      "execution_count": 77,
      "outputs": [
        {
          "output_type": "stream",
          "text": [
            "323\n",
            "277\n",
            "709\n"
          ],
          "name": "stdout"
        }
      ]
    },
    {
      "cell_type": "markdown",
      "metadata": {
        "id": "2D759B8eGJ5H",
        "colab_type": "text"
      },
      "source": [
        "# REFERÊNCIAS\n",
        "\n",
        "- [Titanic: Machine Learning from Disaster](https://www.kaggle.com/c/titanic/data)\n",
        "- [Encyclopedia Titanica](https://www.encyclopedia-titanica.org/)\n",
        "- [Basic Feature Engineering with the Titanic Data](https://triangleinequality.wordpress.com/2013/09/08/basic-feature-engineering-with-the-titanic-data/)\n",
        "- Hind, Philip.  \"Encyclopedia Titanica.\"  Online.  Internet. n.p.  02 Aug 1999."
      ]
    }
  ]
}